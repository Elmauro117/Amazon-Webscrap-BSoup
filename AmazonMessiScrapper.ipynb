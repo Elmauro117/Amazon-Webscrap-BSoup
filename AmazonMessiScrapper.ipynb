{
 "cells": [
  {
   "cell_type": "markdown",
   "metadata": {},
   "source": [
    "## Simple Webscrapp of Amazon using Beautifoul Soup"
   ]
  },
  {
   "cell_type": "markdown",
   "metadata": {},
   "source": [
    "### Consists on 2 parts"
   ]
  },
  {
   "cell_type": "markdown",
   "metadata": {},
   "source": [
    "# 1st part is a simple webscrapper\n",
    "# 2nd part is a more sofisticated form of it"
   ]
  },
  {
   "cell_type": "markdown",
   "metadata": {},
   "source": [
    "## 1st Part:"
   ]
  },
  {
   "cell_type": "code",
   "execution_count": 1,
   "metadata": {},
   "outputs": [],
   "source": [
    "from bs4 import BeautifulSoup\n",
    "import requests\n",
    "import time\n",
    "import datetime\n",
    "import smtplib"
   ]
  },
  {
   "cell_type": "code",
   "execution_count": 2,
   "metadata": {},
   "outputs": [],
   "source": [
    "### Connect to website\n",
    "\n",
    "URL = \"https://www.amazon.com/-/es/SoccerStarz-SOC1209-Figura-Argentina-Lionel/dp/B07BN3SQQK/ref=sr_1_2?__mk_es_US=%C3%85M%C3%85%C5%BD%C3%95%C3%91&crid=QNPRO8PGG1KS&keywords=messi&qid=1675995455&sprefix=messi%2Caps%2C276&sr=8-2\"\n",
    "headers = {\"User-Agent\": \"Mozilla/5.0 (Windows NT 10.0; Win64; x64) AppleWebKit/537.36 (KHTML, like Gecko) Chrome/78.0.3904.108 Safari/537.36\", \"Accept-Encoding\":\"gzip, deflate\", \"Accept\":\"text/html,application/xhtml+xml,application/xml;q=0.9,*/*;q=0.8\", \"DNT\":\"1\",\"Connection\":\"close\", \"Upgrade-Insecure-Requests\":\"1\"}\n",
    "\n",
    "page = requests.get(URL, headers=headers)\n",
    "\n",
    "soup = BeautifulSoup(page.content, \"html.parser\")\n",
    "\n",
    "soup2 = BeautifulSoup(soup.prettify(), \"html.parser\")\n",
    "\n"
   ]
  },
  {
   "cell_type": "code",
   "execution_count": 3,
   "metadata": {},
   "outputs": [
    {
     "data": {
      "text/plain": [
       "200"
      ]
     },
     "execution_count": 3,
     "metadata": {},
     "output_type": "execute_result"
    }
   ],
   "source": [
    "page.status_code"
   ]
  },
  {
   "cell_type": "code",
   "execution_count": 4,
   "metadata": {},
   "outputs": [
    {
     "name": "stdout",
     "output_type": "stream",
     "text": [
      "\n",
      "     SoccerStarz SOC1209 - Figura Argentina Lionel Messi\n",
      "    \n",
      "\n",
      "                          6\n",
      "                          \n",
      "                           .\n",
      "                          \n",
      "\n"
     ]
    }
   ],
   "source": [
    "title = soup2.find(\"span\", id='productTitle').text\n",
    "\n",
    "price = soup2.find(\"span\",class_='a-price-whole').text\n",
    "\n",
    "\n",
    "\n",
    "print(title)\n",
    "print(price)"
   ]
  },
  {
   "cell_type": "code",
   "execution_count": 5,
   "metadata": {},
   "outputs": [],
   "source": [
    "title = title.strip()"
   ]
  },
  {
   "cell_type": "code",
   "execution_count": 6,
   "metadata": {},
   "outputs": [],
   "source": [
    "price = price.strip()\n",
    "price = price[:1]"
   ]
  },
  {
   "cell_type": "code",
   "execution_count": 7,
   "metadata": {},
   "outputs": [
    {
     "name": "stdout",
     "output_type": "stream",
     "text": [
      "6\n",
      "SoccerStarz SOC1209 - Figura Argentina Lionel Messi\n"
     ]
    }
   ],
   "source": [
    "print(price)\n",
    "print(title)"
   ]
  },
  {
   "cell_type": "code",
   "execution_count": 22,
   "metadata": {},
   "outputs": [],
   "source": [
    "reviews = soup2.find_all(\"span\", class_='cr-original-review-content')\n",
    "    \n",
    "reviewss = []\n",
    "\n",
    "for r in reviews:\n",
    "    rr = r.text\n",
    "    rr = rr.strip()\n",
    "    reviewss.append(rr)"
   ]
  },
  {
   "cell_type": "code",
   "execution_count": 8,
   "metadata": {},
   "outputs": [
    {
     "name": "stdout",
     "output_type": "stream",
     "text": [
      "2023-02-12\n"
     ]
    }
   ],
   "source": [
    "import datetime\n",
    "\n",
    "today = datetime.date.today()\n",
    "\n",
    "print(today)"
   ]
  },
  {
   "cell_type": "code",
   "execution_count": 23,
   "metadata": {},
   "outputs": [],
   "source": [
    "import csv\n",
    "\n",
    "header = [\"Title\", \"Price\",\"Reviews\",\"Date\"]\n",
    "data = [title, price,reviewss,today]\n",
    "\n",
    "\n",
    "with open(\"AmazonMessiScrapper.csv\", \"w\", newline='', encoding=\"UTF8\") as f:\n",
    "    writer = csv.writer(f)\n",
    "    writer.writerow(header)\n",
    "    writer.writerow(data)\n"
   ]
  },
  {
   "cell_type": "code",
   "execution_count": null,
   "metadata": {},
   "outputs": [],
   "source": [
    "with open(\"AmazonMessiScrapper.csv\", \"a+\", newline='', encoding=\"UTF8\") as f:\n",
    "    writer = csv.writer(f)\n",
    "    writer.writerow(data)"
   ]
  },
  {
   "cell_type": "code",
   "execution_count": null,
   "metadata": {},
   "outputs": [],
   "source": [
    "def check_price(URL):\n",
    "    URL = URL\n",
    "\n",
    "    headers = {\"User-Agent\": \"Mozilla/5.0 (Windows NT 10.0; Win64; x64) AppleWebKit/537.36 (KHTML, like Gecko) Chrome/78.0.3904.108 Safari/537.36\", \"Accept-Encoding\":\"gzip, deflate\", \"Accept\":\"text/html,application/xhtml+xml,application/xml;q=0.9,*/*;q=0.8\", \"DNT\":\"1\",\"Connection\":\"close\", \"Upgrade-Insecure-Requests\":\"1\"}\n",
    "\n",
    "    page = requests.get(URL, headers=headers)\n",
    "\n",
    "    soup1 = BeautifulSoup(page.content, \"html.parser\")\n",
    "\n",
    "    soup2 = BeautifulSoup(soup1.prettify(), \"html.parser\")\n",
    "\n",
    "    title = soup2.find(\"span\", id='productTitle').text\n",
    "\n",
    "    price = soup2.find(\"span\",class_='a-price-whole').text\n",
    "\n",
    "    title = title.strip()\n",
    "    price = price.strip()\n",
    "    price = price[:3]\n",
    "\n",
    "    import datetime\n",
    "\n",
    "    today = datetime.date.today()\n",
    "    \n",
    "    import csv \n",
    "\n",
    "    header = ['Title', 'Price', 'Date']\n",
    "    data = [title, price, today]\n",
    "\n",
    "    with open('AmazonWebScraperDataset.csv', 'a+', newline='', encoding='UTF8') as f:\n",
    "        writer = csv.writer(f)\n",
    "        writer.writerow(data)\n",
    " "
   ]
  },
  {
   "cell_type": "code",
   "execution_count": null,
   "metadata": {},
   "outputs": [],
   "source": [
    "# Correr la vaina \n",
    "\n",
    "while(True):\n",
    "    check_price()\n",
    "    time.sleep(86400)"
   ]
  },
  {
   "cell_type": "code",
   "execution_count": null,
   "metadata": {},
   "outputs": [],
   "source": [
    "# Send an emial to u if price hite some price\n",
    "\n",
    "def send_mail():\n",
    "    server = smtplib.SMTP_SSL('smtp.gmail.com',465)\n",
    "    server.ehlo()\n",
    "    #server.starttls()\n",
    "    server.ehlo()\n",
    "    server.login('msvf96@sa.com','xxxxxxxxxxxxxx')\n",
    "    \n",
    "    subject = \"Tu Messi cabezaón está a menos de 2 dolares!\"\n",
    "    \n",
    "    ### HAZ UN EXTRACT DEL URL\n",
    "    body = \"Alex, This is the moment we have been waiting for. Now is your chance to pick up the shirt of your dreams. Don't mess it up! Link here: https://www.amazon.com/Funny-Data-Systems-Business-Analyst/dp/B07FNW9FGJ/ref=sr_1_3?dchild=1&keywords=data+analyst+tshirt&qid=1626655184&sr=8-3\"\n",
    "   \n",
    "    msg = f\"Topico: {subject}\\n\\n{body}\"\n",
    "    \n",
    "    server.sendmail(\n",
    "        'msvf96@sa.com',\n",
    "        msg\n",
    "     \n",
    "    )"
   ]
  },
  {
   "cell_type": "code",
   "execution_count": null,
   "metadata": {},
   "outputs": [],
   "source": []
  },
  {
   "cell_type": "code",
   "execution_count": 286,
   "metadata": {},
   "outputs": [],
   "source": [
    "import pandas as pd"
   ]
  },
  {
   "cell_type": "code",
   "execution_count": 287,
   "metadata": {},
   "outputs": [],
   "source": [
    "df1 = pd.read_csv(\"AmazonMessiScrapper.csv\")"
   ]
  },
  {
   "cell_type": "code",
   "execution_count": 288,
   "metadata": {},
   "outputs": [
    {
     "data": {
      "text/html": [
       "<div>\n",
       "<style scoped>\n",
       "    .dataframe tbody tr th:only-of-type {\n",
       "        vertical-align: middle;\n",
       "    }\n",
       "\n",
       "    .dataframe tbody tr th {\n",
       "        vertical-align: top;\n",
       "    }\n",
       "\n",
       "    .dataframe thead th {\n",
       "        text-align: right;\n",
       "    }\n",
       "</style>\n",
       "<table border=\"1\" class=\"dataframe\">\n",
       "  <thead>\n",
       "    <tr style=\"text-align: right;\">\n",
       "      <th></th>\n",
       "      <th>SoccerStarz SOC1209 - Figura Argentina Lionel Messi</th>\n",
       "      <th>US$6.31</th>\n",
       "      <th>['Tiny', 'Not the best quality and very small.', 'Surprisingly small..', 'It looks good, nice quality but way too small..', 'Fc Barcelona', 'Nice collectible', 'Bad quality', 'It was very small and the quality was bad. Messi’s beard was not even straight, it doesn’t  look anything like him at all. My 9yr old was disappointed :(', 'Good but small', 'Very small product, check details before ordering', 'Tiny Messi', 'It is ok, but very small. I am disappointed.', 'Let down', 'Very disappointed with the lack of quality in the product I have received! I have purchased both Messi and Neymar Jr! I must say that the Neymar Jr figurine is of better quality however both items are tiny! It says that the height of the item is 10.5cm however this is in reference to the box it comes in! The figure is almost half this! The Messi figure has arrived with paint from the eye spilling over onto the cheek and the name not central to the figure, making it look strange when standing! I would say that they are definitely over priced for the item quality and amount! I just hope my son still likes them as they are a gift for Christmas! Will definitely not be purchasing more!', 'Not worth the money', \"I must admit that I ordered this in a hurry for Christmas so didn't check the size of the figure before I bought it - but when it arrived I was so disappointed at it's size - it's so tiny! If I'd been more organised for Christmas and had ordered it earlier then I would have returned it. Size aside, it really isn't very well made. All in all certainly not worth the money I paid for it.\", 'Perfect to size / Good quality', 'Bought as a small gift for a child excellent', 'Disappointed', \"Didn't expect that is so tiny\", 'One Star', 'returned badly painted paint runs and missing bits in places']</th>\n",
       "      <th>2023-02-11</th>\n",
       "    </tr>\n",
       "  </thead>\n",
       "  <tbody>\n",
       "    <tr>\n",
       "      <th>0</th>\n",
       "      <td>Lionel Messi Cool Poster Sports Poster for Roo...</td>\n",
       "      <td>.03</td>\n",
       "      <td>[]</td>\n",
       "      <td>2023-02-11</td>\n",
       "    </tr>\n",
       "    <tr>\n",
       "      <th>1</th>\n",
       "      <td>50 Pcs Vinyl Sticker Sports Theme Waterproof S...</td>\n",
       "      <td>)</td>\n",
       "      <td>[]</td>\n",
       "      <td>2023-02-11</td>\n",
       "    </tr>\n",
       "    <tr>\n",
       "      <th>2</th>\n",
       "      <td>NaN</td>\n",
       "      <td>.03</td>\n",
       "      <td>[]</td>\n",
       "      <td>2023-02-11</td>\n",
       "    </tr>\n",
       "    <tr>\n",
       "      <th>3</th>\n",
       "      <td>NaN</td>\n",
       "      <td>)</td>\n",
       "      <td>[]</td>\n",
       "      <td>2023-02-11</td>\n",
       "    </tr>\n",
       "    <tr>\n",
       "      <th>4</th>\n",
       "      <td>NaN</td>\n",
       "      <td>NaN</td>\n",
       "      <td>[]</td>\n",
       "      <td>2023-02-11</td>\n",
       "    </tr>\n",
       "  </tbody>\n",
       "</table>\n",
       "</div>"
      ],
      "text/plain": [
       "  SoccerStarz SOC1209 - Figura Argentina Lionel Messi US$6.31  \\\n",
       "0  Lionel Messi Cool Poster Sports Poster for Roo...      .03   \n",
       "1  50 Pcs Vinyl Sticker Sports Theme Waterproof S...        )   \n",
       "2                                                NaN      .03   \n",
       "3                                                NaN        )   \n",
       "4                                                NaN      NaN   \n",
       "\n",
       "  ['Tiny', 'Not the best quality and very small.', 'Surprisingly small..', 'It looks good, nice quality but way too small..', 'Fc Barcelona', 'Nice collectible', 'Bad quality', 'It was very small and the quality was bad. Messi’s beard was not even straight, it doesn’t  look anything like him at all. My 9yr old was disappointed :(', 'Good but small', 'Very small product, check details before ordering', 'Tiny Messi', 'It is ok, but very small. I am disappointed.', 'Let down', 'Very disappointed with the lack of quality in the product I have received! I have purchased both Messi and Neymar Jr! I must say that the Neymar Jr figurine is of better quality however both items are tiny! It says that the height of the item is 10.5cm however this is in reference to the box it comes in! The figure is almost half this! The Messi figure has arrived with paint from the eye spilling over onto the cheek and the name not central to the figure, making it look strange when standing! I would say that they are definitely over priced for the item quality and amount! I just hope my son still likes them as they are a gift for Christmas! Will definitely not be purchasing more!', 'Not worth the money', \"I must admit that I ordered this in a hurry for Christmas so didn't check the size of the figure before I bought it - but when it arrived I was so disappointed at it's size - it's so tiny! If I'd been more organised for Christmas and had ordered it earlier then I would have returned it. Size aside, it really isn't very well made. All in all certainly not worth the money I paid for it.\", 'Perfect to size / Good quality', 'Bought as a small gift for a child excellent', 'Disappointed', \"Didn't expect that is so tiny\", 'One Star', 'returned badly painted paint runs and missing bits in places']  \\\n",
       "0                                                 []                                                                                                                                                                                                                                                                                                                                                                                                                                                                                                                                                                                                                                                                                                                                                                                                                                                                                                                                                                                                                                                                                                                                                                                                                                                                                                                                                                                                                                                                                                                                                                                                                                                                                                                                                                                                               \n",
       "1                                                 []                                                                                                                                                                                                                                                                                                                                                                                                                                                                                                                                                                                                                                                                                                                                                                                                                                                                                                                                                                                                                                                                                                                                                                                                                                                                                                                                                                                                                                                                                                                                                                                                                                                                                                                                                                                                               \n",
       "2                                                 []                                                                                                                                                                                                                                                                                                                                                                                                                                                                                                                                                                                                                                                                                                                                                                                                                                                                                                                                                                                                                                                                                                                                                                                                                                                                                                                                                                                                                                                                                                                                                                                                                                                                                                                                                                                                               \n",
       "3                                                 []                                                                                                                                                                                                                                                                                                                                                                                                                                                                                                                                                                                                                                                                                                                                                                                                                                                                                                                                                                                                                                                                                                                                                                                                                                                                                                                                                                                                                                                                                                                                                                                                                                                                                                                                                                                                               \n",
       "4                                                 []                                                                                                                                                                                                                                                                                                                                                                                                                                                                                                                                                                                                                                                                                                                                                                                                                                                                                                                                                                                                                                                                                                                                                                                                                                                                                                                                                                                                                                                                                                                                                                                                                                                                                                                                                                                                               \n",
       "\n",
       "   2023-02-11  \n",
       "0  2023-02-11  \n",
       "1  2023-02-11  \n",
       "2  2023-02-11  \n",
       "3  2023-02-11  \n",
       "4  2023-02-11  "
      ]
     },
     "execution_count": 288,
     "metadata": {},
     "output_type": "execute_result"
    }
   ],
   "source": [
    "df1.head()\n",
    "\n",
    "# Ta good"
   ]
  },
  {
   "cell_type": "markdown",
   "metadata": {},
   "source": [
    "# Second Part"
   ]
  },
  {
   "cell_type": "code",
   "execution_count": 5,
   "metadata": {},
   "outputs": [],
   "source": [
    "URL = \"https://www.amazon.com/s?k=messi&__mk_es_US=%C3%85M%C3%85%C5%BD%C3%95%C3%91&crid=2BGCYOGCOFVLN&sprefix=messi%2Caps%2C383&ref=nb_sb_noss_1\"\n",
    "headers = {\"User-Agent\": \"Mozilla/5.0 (Windows NT 10.0; Win64; x64) AppleWebKit/537.36 (KHTML, like Gecko) Chrome/78.0.3904.108 Safari/537.36\", \"Accept-Encoding\":\"gzip, deflate\", \"Accept\":\"text/html,application/xhtml+xml,application/xml;q=0.9,*/*;q=0.8\", \"DNT\":\"1\",\"Connection\":\"close\", \"Upgrade-Insecure-Requests\":\"1\"}\n",
    "\n",
    "page = requests.get(URL, headers=headers)\n",
    "\n",
    "soup = BeautifulSoup(page.content, \"html.parser\")\n",
    "\n",
    "soup2 = BeautifulSoup(soup.prettify(), \"html.parser\")\n"
   ]
  },
  {
   "cell_type": "code",
   "execution_count": 6,
   "metadata": {},
   "outputs": [
    {
     "data": {
      "text/plain": [
       "200"
      ]
     },
     "execution_count": 6,
     "metadata": {},
     "output_type": "execute_result"
    }
   ],
   "source": [
    "page.status_code"
   ]
  },
  {
   "cell_type": "code",
   "execution_count": 7,
   "metadata": {},
   "outputs": [],
   "source": [
    "secciones = soup.find_all(\"div\", attrs = {\"class\":\"a-section a-spacing-base\"})\n",
    "\n",
    "\n",
    "lista=[]\n",
    "for seccion in secciones: \n",
    "    x= seccion.find(\"h2\")\n",
    "    lista.append(x)"
   ]
  },
  {
   "cell_type": "code",
   "execution_count": 8,
   "metadata": {},
   "outputs": [],
   "source": [
    "links_secciones = [seccion.a.get(\"href\") for seccion in lista]"
   ]
  },
  {
   "cell_type": "code",
   "execution_count": 9,
   "metadata": {
    "scrolled": true
   },
   "outputs": [
    {
     "data": {
      "text/plain": [
       "['/gp/slredirect/picassoRedirect.html/ref=pa_sp_atf_aps_sr_pg1_1?ie=UTF8&adId=A0371377948QLNP2X8EO&qualifier=1676162328&id=224018740294532&widgetName=sp_atf&url=%2FLionel-Posters-Decoration-16x24inch-40x60cm%2Fdp%2FB0BQV8LBKL%2Fref%3Dsr_1_1_sspa%3F__mk_es_US%3D%25C3%2585M%25C3%2585%25C5%25BD%25C3%2595%25C3%2591%26crid%3D2BGCYOGCOFVLN%26keywords%3Dmessi%26qid%3D1676162328%26sprefix%3Dmessi%252Caps%252C383%26sr%3D8-1-spons%26psc%3D1',\n",
       " '/SoccerStarz-SOC1209-Argentina-Lionel-Figure/dp/B07BN3SQQK/ref=sr_1_2?__mk_es_US=%C3%85M%C3%85%C5%BD%C3%95%C3%91&crid=2BGCYOGCOFVLN&keywords=messi&qid=1676162328&sprefix=messi%2Caps%2C383&sr=8-2',\n",
       " '/MJGUYS-Youth-Sportswear-Soccer-Sleeve/dp/B0BK24BSJR/ref=sr_1_3?__mk_es_US=%C3%85M%C3%85%C5%BD%C3%95%C3%91&crid=2BGCYOGCOFVLN&keywords=messi&qid=1676162328&sprefix=messi%2Caps%2C383&sr=8-3',\n",
       " '/Sticker-Waterproof-Skateboard-Scrapbook-Thanksgiving/dp/B09KKC1PY8/ref=sr_1_4?__mk_es_US=%C3%85M%C3%85%C5%BD%C3%95%C3%91&crid=2BGCYOGCOFVLN&keywords=messi&qid=1676162328&sprefix=messi%2Caps%2C383&sr=8-4',\n",
       " '/JDCUBAO-decorative-paintings-Decoration-Aesthetics/dp/B0BR3BY3CC/ref=sxin_15_ac_d_rm?__mk_es_US=%C3%85M%C3%85%C5%BD%C3%95%C3%91&ac_md=0-0-bWVzc2k%3D-ac_d_rm_rm_rm&content-id=amzn1.sym.b09913c7-88ee-4b06-b977-3fd4ebd29a25%3Aamzn1.sym.b09913c7-88ee-4b06-b977-3fd4ebd29a25&crid=2BGCYOGCOFVLN&cv_ct_cx=messi&keywords=messi&pd_rd_i=B0BR3BY3CC&pd_rd_r=271b6e0f-0a85-49a4-8d9a-f249fb1641cf&pd_rd_w=Qp9jQ&pd_rd_wg=Ig3DR&pf_rd_p=b09913c7-88ee-4b06-b977-3fd4ebd29a25&pf_rd_r=TM19YXETPD2CFS5TFY79&qid=1676162328&sprefix=messi%2Caps%2C383&sr=1-1-7d9bfb42-6e38-4445-b604-42cab39e191b',\n",
       " '/TMATUTA-Barcelona-Tapestry-Hanging-College/dp/B08PV1RYSX/ref=sxin_15_ac_d_rm?__mk_es_US=%C3%85M%C3%85%C5%BD%C3%95%C3%91&ac_md=2-1-ZmMgYmFyY2Vsb25h-ac_d_rm_rm_rm&content-id=amzn1.sym.b09913c7-88ee-4b06-b977-3fd4ebd29a25%3Aamzn1.sym.b09913c7-88ee-4b06-b977-3fd4ebd29a25&crid=2BGCYOGCOFVLN&cv_ct_cx=messi&keywords=messi&pd_rd_i=B08PV1RYSX&pd_rd_r=271b6e0f-0a85-49a4-8d9a-f249fb1641cf&pd_rd_w=Qp9jQ&pd_rd_wg=Ig3DR&pf_rd_p=b09913c7-88ee-4b06-b977-3fd4ebd29a25&pf_rd_r=TM19YXETPD2CFS5TFY79&qid=1676162328&sprefix=messi%2Caps%2C383&sr=1-2-7d9bfb42-6e38-4445-b604-42cab39e191b',\n",
       " '/Icon-Sports-Reversible-Champions-Barcelona/dp/B08KHWTRH8/ref=sxin_15_ac_d_rm?__mk_es_US=%C3%85M%C3%85%C5%BD%C3%95%C3%91&ac_md=4-2-YmFyY2Vsb25hIHNvY2Nlcg%3D%3D-ac_d_rm_rm_rm&content-id=amzn1.sym.b09913c7-88ee-4b06-b977-3fd4ebd29a25%3Aamzn1.sym.b09913c7-88ee-4b06-b977-3fd4ebd29a25&crid=2BGCYOGCOFVLN&cv_ct_cx=messi&keywords=messi&pd_rd_i=B08KHWTRH8&pd_rd_r=271b6e0f-0a85-49a4-8d9a-f249fb1641cf&pd_rd_w=Qp9jQ&pd_rd_wg=Ig3DR&pf_rd_p=b09913c7-88ee-4b06-b977-3fd4ebd29a25&pf_rd_r=TM19YXETPD2CFS5TFY79&qid=1676162328&sprefix=messi%2Caps%2C383&sr=1-3-7d9bfb42-6e38-4445-b604-42cab39e191b',\n",
       " '/Barcelona-Aluminium-Messi-Drink-Bottle/dp/B0066WOEOE/ref=sxin_15_ac_d_rm?__mk_es_US=%C3%85M%C3%85%C5%BD%C3%95%C3%91&ac_md=5-3-bWVzc2kgd2F0ZXIgYm90dGxl-ac_d_rm_rm_rm&content-id=amzn1.sym.b09913c7-88ee-4b06-b977-3fd4ebd29a25%3Aamzn1.sym.b09913c7-88ee-4b06-b977-3fd4ebd29a25&crid=2BGCYOGCOFVLN&cv_ct_cx=messi&keywords=messi&pd_rd_i=B0066WOEOE&pd_rd_r=271b6e0f-0a85-49a4-8d9a-f249fb1641cf&pd_rd_w=Qp9jQ&pd_rd_wg=Ig3DR&pf_rd_p=b09913c7-88ee-4b06-b977-3fd4ebd29a25&pf_rd_r=TM19YXETPD2CFS5TFY79&qid=1676162328&sprefix=messi%2Caps%2C383&sr=1-4-7d9bfb42-6e38-4445-b604-42cab39e191b',\n",
       " '/Icon-Sports-Barcelona-Officially-Sweatshirt/dp/B08M4HT8Y9/ref=sxin_15_ac_d_rm?__mk_es_US=%C3%85M%C3%85%C5%BD%C3%95%C3%91&ac_md=6-4-bWVzc2kgc29jY2Vy-ac_d_rm_rm_rm&content-id=amzn1.sym.b09913c7-88ee-4b06-b977-3fd4ebd29a25%3Aamzn1.sym.b09913c7-88ee-4b06-b977-3fd4ebd29a25&crid=2BGCYOGCOFVLN&cv_ct_cx=messi&keywords=messi&pd_rd_i=B08M4HT8Y9&pd_rd_r=271b6e0f-0a85-49a4-8d9a-f249fb1641cf&pd_rd_w=Qp9jQ&pd_rd_wg=Ig3DR&pf_rd_p=b09913c7-88ee-4b06-b977-3fd4ebd29a25&pf_rd_r=TM19YXETPD2CFS5TFY79&qid=1676162328&sprefix=messi%2Caps%2C383&sr=1-5-7d9bfb42-6e38-4445-b604-42cab39e191b',\n",
       " '/Barcelona-Drinks-Bottle-750ml-Authentic/dp/B07W3K8P2H/ref=sxin_15_ac_d_rm?__mk_es_US=%C3%85M%C3%85%C5%BD%C3%95%C3%91&ac_md=7-5-YmFyY2E%3D-ac_d_rm_rm_rm&content-id=amzn1.sym.b09913c7-88ee-4b06-b977-3fd4ebd29a25%3Aamzn1.sym.b09913c7-88ee-4b06-b977-3fd4ebd29a25&crid=2BGCYOGCOFVLN&cv_ct_cx=messi&keywords=messi&pd_rd_i=B07W3K8P2H&pd_rd_r=271b6e0f-0a85-49a4-8d9a-f249fb1641cf&pd_rd_w=Qp9jQ&pd_rd_wg=Ig3DR&pf_rd_p=b09913c7-88ee-4b06-b977-3fd4ebd29a25&pf_rd_r=TM19YXETPD2CFS5TFY79&qid=1676162328&sprefix=messi%2Caps%2C383&sr=1-6-7d9bfb42-6e38-4445-b604-42cab39e191b',\n",
       " '/Slrioks-Jersey-Leather-Silicone-Shockproof/dp/B0BS2THR7T/ref=sr_1_5?__mk_es_US=%C3%85M%C3%85%C5%BD%C3%95%C3%91&crid=2BGCYOGCOFVLN&keywords=messi&qid=1676162328&sprefix=messi%2Caps%2C383&sr=8-5',\n",
       " '/Superstars-Lionel-Signature-Dormitory-Aesthetic-Decoration/dp/B0BQH3VL48/ref=sr_1_6?__mk_es_US=%C3%85M%C3%85%C5%BD%C3%95%C3%91&crid=2BGCYOGCOFVLN&keywords=messi&qid=1676162328&sprefix=messi%2Caps%2C383&sr=8-6',\n",
       " '/Lionel-Jersey-Season-Unbranded-Version/dp/B0BJVGVLYY/ref=sr_1_7?__mk_es_US=%C3%85M%C3%85%C5%BD%C3%95%C3%91&crid=2BGCYOGCOFVLN&keywords=messi&qid=1676162328&sprefix=messi%2Caps%2C383&sr=8-7',\n",
       " '/JDCUBAO-decorative-paintings-Decoration-Aesthetics/dp/B0BR3BY3CC/ref=sr_1_8?__mk_es_US=%C3%85M%C3%85%C5%BD%C3%95%C3%91&crid=2BGCYOGCOFVLN&keywords=messi&qid=1676162328&sprefix=messi%2Caps%2C383&sr=8-8',\n",
       " '/Messi-Johan-Cruyff/dp/B07J35WQ9Z/ref=sr_1_9?__mk_es_US=%C3%85M%C3%85%C5%BD%C3%95%C3%91&crid=2BGCYOGCOFVLN&keywords=messi&qid=1676162328&sprefix=messi%2Caps%2C383&sr=8-9',\n",
       " '/Signables-Premium-Facsimile-Memorabilia-Collectors/dp/B09NWHRHSK/ref=sr_1_10?__mk_es_US=%C3%85M%C3%85%C5%BD%C3%95%C3%91&crid=2BGCYOGCOFVLN&keywords=messi&qid=1676162328&sprefix=messi%2Caps%2C383&sr=8-10',\n",
       " '/Messi-Inspiring-children-players-history/dp/1974634116/ref=sr_1_11?__mk_es_US=%C3%85M%C3%85%C5%BD%C3%95%C3%91&crid=2BGCYOGCOFVLN&keywords=messi&qid=1676162328&sprefix=messi%2Caps%2C383&sr=8-11',\n",
       " '/Barcelona-Lionel-Officially-Licensed-Sweatshirt/dp/B08M4BKVD6/ref=sr_1_12?__mk_es_US=%C3%85M%C3%85%C5%BD%C3%95%C3%91&crid=2BGCYOGCOFVLN&keywords=messi&qid=1676162328&sprefix=messi%2Caps%2C383&sr=8-12',\n",
       " '/COMTRUDE-Football-Pendant-Stainless-Necklace/dp/B08GCDM7WG/ref=sr_1_13?__mk_es_US=%C3%85M%C3%85%C5%BD%C3%95%C3%91&crid=2BGCYOGCOFVLN&keywords=messi&qid=1676162328&sprefix=messi%2Caps%2C383&sr=8-13',\n",
       " '/Messi/dp/B088ZVFFTZ/ref=sr_1_14?__mk_es_US=%C3%85M%C3%85%C5%BD%C3%95%C3%91&crid=2BGCYOGCOFVLN&keywords=messi&qid=1676162328&sprefix=messi%2Caps%2C383&sr=8-14',\n",
       " '/Messi-vs-Ronaldo-Rivalry-Remade/dp/0063157179/ref=sr_1_15?__mk_es_US=%C3%85M%C3%85%C5%BD%C3%95%C3%91&crid=2BGCYOGCOFVLN&keywords=messi&qid=1676162328&sprefix=messi%2Caps%2C383&sr=8-15',\n",
       " '/Messi-2022-Updated-Luca-Caioli-ebook/dp/B09PQH19R6/ref=sr_1_16?__mk_es_US=%C3%85M%C3%85%C5%BD%C3%95%C3%91&crid=2BGCYOGCOFVLN&keywords=messi&qid=1676162328&sprefix=messi%2Caps%2C383&sr=8-16',\n",
       " '/gp/slredirect/picassoRedirect.html/ref=pa_sp_mtf_aps_sr_pg1_1?ie=UTF8&adId=A011309022SJNB94AKNR7&qualifier=1676162328&id=224018740294532&widgetName=sp_mtf&url=%2FHIGGEL-Football-Posters-Unframe-style-12x18inch%2Fdp%2FB0BMGRL4JF%2Fref%3Dsr_1_17_sspa%3F__mk_es_US%3D%25C3%2585M%25C3%2585%25C5%25BD%25C3%2595%25C3%2591%26crid%3D2BGCYOGCOFVLN%26keywords%3Dmessi%26qid%3D1676162328%26sprefix%3Dmessi%252Caps%252C383%26sr%3D8-17-spons%26psc%3D1',\n",
       " '/gp/slredirect/picassoRedirect.html/ref=pa_sp_mtf_aps_sr_pg1_1?ie=UTF8&adId=A01140146KH2K3MUFKE0&qualifier=1676162328&id=224018740294532&widgetName=sp_mtf&url=%2FHIGGEL-Football-Posters-Unframe-style-12x18inch%2Fdp%2FB0BMGQX2X6%2Fref%3Dsr_1_18_sspa%3F__mk_es_US%3D%25C3%2585M%25C3%2585%25C5%25BD%25C3%2595%25C3%2591%26crid%3D2BGCYOGCOFVLN%26keywords%3Dmessi%26qid%3D1676162328%26sprefix%3Dmessi%252Caps%252C383%26sr%3D8-18-spons%26psc%3D1',\n",
       " '/gp/slredirect/picassoRedirect.html/ref=pa_sp_mtf_aps_sr_pg1_1?ie=UTF8&adId=A01356963890PBWNGB11T&qualifier=1676162328&id=224018740294532&widgetName=sp_mtf&url=%2FSuperstar-Decorative-Paintings-Decoration-Aesthetics%2Fdp%2FB0BMLQKDX9%2Fref%3Dsr_1_19_sspa%3F__mk_es_US%3D%25C3%2585M%25C3%2585%25C5%25BD%25C3%2595%25C3%2591%26crid%3D2BGCYOGCOFVLN%26keywords%3Dmessi%26qid%3D1676162328%26sprefix%3Dmessi%252Caps%252C383%26sr%3D8-19-spons%26psc%3D1',\n",
       " '/gp/slredirect/picassoRedirect.html/ref=pa_sp_mtf_aps_sr_pg1_1?ie=UTF8&adId=A027476333MWLQ44OFE93&qualifier=1676162328&id=224018740294532&widgetName=sp_mtf&url=%2FFootball-Superstar-Ronaldo-11-7x16-5-UNFRAMED%2Fdp%2FB0BLMPZ5J7%2Fref%3Dsr_1_20_sspa%3F__mk_es_US%3D%25C3%2585M%25C3%2585%25C5%25BD%25C3%2595%25C3%2591%26crid%3D2BGCYOGCOFVLN%26keywords%3Dmessi%26qid%3D1676162328%26sprefix%3Dmessi%252Caps%252C383%26sr%3D8-20-spons%26psc%3D1',\n",
       " '/Decorative-posters-bedroom-Victory-Frameless/dp/B0B7XRMKZG/ref=sr_1_21?__mk_es_US=%C3%85M%C3%85%C5%BD%C3%95%C3%91&crid=2BGCYOGCOFVLN&keywords=messi&qid=1676162328&sprefix=messi%2Caps%2C383&sr=8-21',\n",
       " '/Superstar-Decorative-Paintings-Decoration-Aesthetics/dp/B0BMLQKDX9/ref=sr_1_22?__mk_es_US=%C3%85M%C3%85%C5%BD%C3%95%C3%91&crid=2BGCYOGCOFVLN&keywords=messi&qid=1676162328&sprefix=messi%2Caps%2C383&sr=8-22',\n",
       " '/Lionel-Messi-12x8-Signed-CELEBRATION/dp/B07C5VQT6Y/ref=sr_1_23?__mk_es_US=%C3%85M%C3%85%C5%BD%C3%95%C3%91&crid=2BGCYOGCOFVLN&keywords=messi&qid=1676162328&sprefix=messi%2Caps%2C383&sr=8-23',\n",
       " '/Icon-Sports-Barcelona-Officially-Sweatshirt/dp/B08M4HZWNN/ref=sr_1_24?__mk_es_US=%C3%85M%C3%85%C5%BD%C3%95%C3%91&crid=2BGCYOGCOFVLN&keywords=messi&qid=1676162328&sprefix=messi%2Caps%2C383&sr=8-24',\n",
       " '/gp/slredirect/picassoRedirect.html/ref=pa_sp_mtf_aps_sr_pg1_1?ie=UTF8&adId=A046922026CP1Y1KPBO8O&qualifier=1676162328&id=224018740294532&widgetName=sp_mtf&url=%2FFootball-aesthetic-decoration-printing-NRTIUESX%2Fdp%2FB0BNWYHJ8C%2Fref%3Dsr_1_25_sspa%3F__mk_es_US%3D%25C3%2585M%25C3%2585%25C5%25BD%25C3%2595%25C3%2591%26crid%3D2BGCYOGCOFVLN%26keywords%3Dmessi%26qid%3D1676162328%26sprefix%3Dmessi%252Caps%252C383%26sr%3D8-25-spons%26psc%3D1',\n",
       " '/gp/slredirect/picassoRedirect.html/ref=pa_sp_mtf_aps_sr_pg1_1?ie=UTF8&adId=A0316950MRQ6PXZHAGS5&qualifier=1676162328&id=224018740294532&widgetName=sp_mtf&url=%2FAcademy-T-Z-Layton%2Fdp%2F1955804087%2Fref%3Dsr_1_26_sspa%3F__mk_es_US%3D%25C3%2585M%25C3%2585%25C5%25BD%25C3%2595%25C3%2591%26crid%3D2BGCYOGCOFVLN%26keywords%3Dmessi%26qid%3D1676162328%26sprefix%3Dmessi%252Caps%252C383%26sr%3D8-26-spons%26psc%3D1',\n",
       " '/gp/slredirect/picassoRedirect.html/ref=pa_sp_mtf_aps_sr_pg1_1?ie=UTF8&adId=A01138261UO6Y705G585A&qualifier=1676162328&id=224018740294532&widgetName=sp_mtf&url=%2FHIGGEL-Football-Posters-Unframe-style-12x18inch%2Fdp%2FB0BMGWZX77%2Fref%3Dsr_1_27_sspa%3F__mk_es_US%3D%25C3%2585M%25C3%2585%25C5%25BD%25C3%2595%25C3%2591%26crid%3D2BGCYOGCOFVLN%26keywords%3Dmessi%26qid%3D1676162328%26sprefix%3Dmessi%252Caps%252C383%26sr%3D8-27-spons%26psc%3D1',\n",
       " '/gp/slredirect/picassoRedirect.html/ref=pa_sp_mtf_aps_sr_pg1_1?ie=UTF8&adId=A02145993CXA1MIVYC2H9&qualifier=1676162328&id=224018740294532&widgetName=sp_mtf&url=%2FGUUGOON-Football-Bedroom-posters-16x24inch-Unframed%2Fdp%2FB0BDWWS3XD%2Fref%3Dsr_1_28_sspa%3F__mk_es_US%3D%25C3%2585M%25C3%2585%25C5%25BD%25C3%2595%25C3%2591%26crid%3D2BGCYOGCOFVLN%26keywords%3Dmessi%26qid%3D1676162328%26sprefix%3Dmessi%252Caps%252C383%26sr%3D8-28-spons%26psc%3D1',\n",
       " '/Gengx-Schoolbag-Daypack-Student-Backpack/dp/B0B1TY736K/ref=sr_1_29?__mk_es_US=%C3%85M%C3%85%C5%BD%C3%95%C3%91&crid=2BGCYOGCOFVLN&keywords=messi&qid=1676162328&sprefix=messi%2Caps%2C383&sr=8-29',\n",
       " '/Messi-Leo/dp/B07B11QGZC/ref=sr_1_30?__mk_es_US=%C3%85M%C3%85%C5%BD%C3%95%C3%91&crid=2BGCYOGCOFVLN&keywords=messi&qid=1676162328&sprefix=messi%2Caps%2C383&sr=8-30',\n",
       " '/Ronaldo-Vs-Messi-Faceoff-Cristiano/dp/B07BCDJXGZ/ref=sr_1_31?__mk_es_US=%C3%85M%C3%85%C5%BD%C3%95%C3%91&crid=2BGCYOGCOFVLN&keywords=messi&qid=1676162328&sprefix=messi%2Caps%2C383&sr=8-31',\n",
       " '/Lanyard-Germain-Official-Licensed-neckstrap/dp/B09PJRDJDL/ref=sr_1_32?__mk_es_US=%C3%85M%C3%85%C5%BD%C3%95%C3%91&crid=2BGCYOGCOFVLN&keywords=messi&qid=1676162328&sprefix=messi%2Caps%2C383&sr=8-32',\n",
       " '/gp/slredirect/picassoRedirect.html/ref=pa_sp_mtf_aps_sr_pg1_1?ie=UTF8&adId=A0402638HZUCMEMMHZSR&qualifier=1676162328&id=224018740294532&widgetName=sp_mtf&url=%2FFlea-Amazing-Story-Leo-Messi%2Fdp%2F1938591097%2Fref%3Dsr_1_33_sspa%3F__mk_es_US%3D%25C3%2585M%25C3%2585%25C5%25BD%25C3%2595%25C3%2591%26crid%3D2BGCYOGCOFVLN%26keywords%3Dmessi%26qid%3D1676162328%26sprefix%3Dmessi%252Caps%252C383%26sr%3D8-33-spons%26psc%3D1',\n",
       " '/gp/slredirect/picassoRedirect.html/ref=pa_sp_mtf_aps_sr_pg1_1?ie=UTF8&adId=A00403462PKCOQ2A4T0R2&qualifier=1676162328&id=224018740294532&widgetName=sp_mtf&url=%2FNITDODI-Poster-Lionel-Football-Decor-Best-Fans-12in%25C3%259718in%2Fdp%2FB0BF19WZJD%2Fref%3Dsr_1_34_sspa%3F__mk_es_US%3D%25C3%2585M%25C3%2585%25C5%25BD%25C3%2595%25C3%2591%26crid%3D2BGCYOGCOFVLN%26keywords%3Dmessi%26qid%3D1676162328%26sprefix%3Dmessi%252Caps%252C383%26sr%3D8-34-spons%26psc%3D1',\n",
       " '/gp/slredirect/picassoRedirect.html/ref=pa_sp_mtf_aps_sr_pg1_1?ie=UTF8&adId=A01358203OEUMKPFRHVB7&qualifier=1676162328&id=224018740294532&widgetName=sp_mtf&url=%2FFootball-Superstar-Inspirational-Decoration-Landscape%2Fdp%2FB0BMLQXY9V%2Fref%3Dsr_1_35_sspa%3F__mk_es_US%3D%25C3%2585M%25C3%2585%25C5%25BD%25C3%2595%25C3%2591%26crid%3D2BGCYOGCOFVLN%26keywords%3Dmessi%26qid%3D1676162328%26sprefix%3Dmessi%252Caps%252C383%26sr%3D8-35-spons%26psc%3D1',\n",
       " '/Icon-Sports-Barcelona-Officially-Sweatshirt/dp/B08M4HT8Y9/ref=sr_1_36?__mk_es_US=%C3%85M%C3%85%C5%BD%C3%95%C3%91&crid=2BGCYOGCOFVLN&keywords=messi&qid=1676162328&sprefix=messi%2Caps%2C383&sr=8-36',\n",
       " '/adidas-unisex-youth-Messi-Royal-Yellow/dp/B08143SPH1/ref=sr_1_37?__mk_es_US=%C3%85M%C3%85%C5%BD%C3%95%C3%91&crid=2BGCYOGCOFVLN&keywords=messi&qid=1676162328&sprefix=messi%2Caps%2C383&sr=8-37',\n",
       " '/Flea-Amazing-Story-Leo-Messi/dp/1938591097/ref=sr_1_38?__mk_es_US=%C3%85M%C3%85%C5%BD%C3%95%C3%91&crid=2BGCYOGCOFVLN&keywords=messi&qid=1676162328&sprefix=messi%2Caps%2C383&sr=8-38',\n",
       " '/Lionel-Messi-Greatest-Steve-Wilson/dp/B0859SRJ59/ref=sr_1_39?__mk_es_US=%C3%85M%C3%85%C5%BD%C3%95%C3%91&crid=2BGCYOGCOFVLN&keywords=messi&qid=1676162328&sprefix=messi%2Caps%2C383&sr=8-39',\n",
       " '/Funko-Pop-Football-Saint-Germain-Lionel/dp/B09YDH36XR/ref=sr_1_40?__mk_es_US=%C3%85M%C3%85%C5%BD%C3%95%C3%91&crid=2BGCYOGCOFVLN&keywords=messi&qid=1676162328&sprefix=messi%2Caps%2C383&sr=8-40',\n",
       " '/WONDER/dp/B086HWXZ6D/ref=sr_1_41?__mk_es_US=%C3%85M%C3%85%C5%BD%C3%95%C3%91&crid=2BGCYOGCOFVLN&keywords=messi&qid=1676162328&sprefix=messi%2Caps%2C383&sr=8-41',\n",
       " '/Stickers-Waterproof-Skateboard-Computer-Aesthetic/dp/B0BMXMQF1D/ref=sr_1_42?__mk_es_US=%C3%85M%C3%85%C5%BD%C3%95%C3%91&crid=2BGCYOGCOFVLN&keywords=messi&qid=1676162328&sprefix=messi%2Caps%2C383&sr=8-42',\n",
       " '/Euroscarves-Argentina-Soccer-Scarf-Champions/dp/B0BQZHXP2W/ref=sr_1_43?__mk_es_US=%C3%85M%C3%85%C5%BD%C3%95%C3%91&crid=2BGCYOGCOFVLN&keywords=messi&qid=1676162328&sprefix=messi%2Caps%2C383&sr=8-43',\n",
       " '/Jersey-Badge-Soccer-Football-Youth/dp/B0BS1LRH1P/ref=sr_1_44?__mk_es_US=%C3%85M%C3%85%C5%BD%C3%95%C3%91&crid=2BGCYOGCOFVLN&keywords=messi&qid=1676162328&sprefix=messi%2Caps%2C383&sr=8-44',\n",
       " '/Football-Superstar-Ronaldo-11-7x16-5-UNFRAMED/dp/B0BLMPZ5J7/ref=sr_1_45?__mk_es_US=%C3%85M%C3%85%C5%BD%C3%95%C3%91&crid=2BGCYOGCOFVLN&keywords=messi&qid=1676162328&sprefix=messi%2Caps%2C383&sr=8-45',\n",
       " '/Cristiano-Watercolor-Superstar-Inspirational-Football/dp/B0BGLMK7Z1/ref=sr_1_46?__mk_es_US=%C3%85M%C3%85%C5%BD%C3%95%C3%91&crid=2BGCYOGCOFVLN&keywords=messi&qid=1676162328&sprefix=messi%2Caps%2C383&sr=8-46',\n",
       " '/Epic-Athletes-Lionel-Dan-Wetzel/dp/1250619831/ref=sr_1_47?__mk_es_US=%C3%85M%C3%85%C5%BD%C3%95%C3%91&crid=2BGCYOGCOFVLN&keywords=messi&qid=1676162328&sprefix=messi%2Caps%2C383&sr=8-47',\n",
       " '/adidas-Speedportal-Messi-4-Indoor-Soccer/dp/B09F1327QX/ref=sr_1_48?__mk_es_US=%C3%85M%C3%85%C5%BD%C3%95%C3%91&crid=2BGCYOGCOFVLN&keywords=messi&qid=1676162328&sprefix=messi%2Caps%2C383&sr=8-48',\n",
       " '/Soccer-Mom-Missi-Pyle/dp/B07ZGFH7C6/ref=sr_1_49?__mk_es_US=%C3%85M%C3%85%C5%BD%C3%95%C3%91&crid=2BGCYOGCOFVLN&keywords=messi&qid=1676162328&sprefix=messi%2Caps%2C383&sr=8-49',\n",
       " '/ZERMU-Superstar-Protection-Absorption-Messi-10-Soccer-Argentina/dp/B0BQWXK767/ref=sr_1_50?__mk_es_US=%C3%85M%C3%85%C5%BD%C3%95%C3%91&crid=2BGCYOGCOFVLN&keywords=messi&qid=1676162328&sprefix=messi%2Caps%2C383&sr=8-50',\n",
       " '/Lionel-Messi-Real-Marie-Morreale/dp/0531225631/ref=sr_1_51?__mk_es_US=%C3%85M%C3%85%C5%BD%C3%95%C3%91&crid=2BGCYOGCOFVLN&keywords=messi&qid=1676162328&sprefix=messi%2Caps%2C383&sr=8-51',\n",
       " '/ZERMU-Superstar-Protection-Absorption-Messi-10-Soccer-Argentina/dp/B0BQN8HKR6/ref=sr_1_52?__mk_es_US=%C3%85M%C3%85%C5%BD%C3%95%C3%91&crid=2BGCYOGCOFVLN&keywords=messi&qid=1676162328&sprefix=messi%2Caps%2C383&sr=8-52',\n",
       " '/adidas-Nemeziz-Ground-Silver-Yellow/dp/B0811J81RC/ref=sr_1_53?__mk_es_US=%C3%85M%C3%85%C5%BD%C3%95%C3%91&crid=2BGCYOGCOFVLN&keywords=messi&qid=1676162328&sprefix=messi%2Caps%2C383&sr=8-53',\n",
       " '/Uniform-Keychain-Bracelet-Football-7-8ears/dp/B08R27D867/ref=sr_1_54?__mk_es_US=%C3%85M%C3%85%C5%BD%C3%95%C3%91&crid=2BGCYOGCOFVLN&keywords=messi&qid=1676162328&sprefix=messi%2Caps%2C383&sr=8-54',\n",
       " '/HIGGEL-Football-Posters-Unframe-style-12x18inch/dp/B0BMGQX2X6/ref=sr_1_55?__mk_es_US=%C3%85M%C3%85%C5%BD%C3%95%C3%91&crid=2BGCYOGCOFVLN&keywords=messi&qid=1676162328&sprefix=messi%2Caps%2C383&sr=8-55',\n",
       " '/Collapsible-Silicone-Soccer-Water-Bottle/dp/B08DDHM9NB/ref=sr_1_56?__mk_es_US=%C3%85M%C3%85%C5%BD%C3%95%C3%91&crid=2BGCYOGCOFVLN&keywords=messi&qid=1676162328&sprefix=messi%2Caps%2C383&sr=8-56',\n",
       " '/Take-Ball-Pass-Lionel-Messi/dp/B07T9398C2/ref=sr_1_57?__mk_es_US=%C3%85M%C3%85%C5%BD%C3%95%C3%91&crid=2BGCYOGCOFVLN&keywords=messi&qid=1676162328&sprefix=messi%2Caps%2C383&sr=8-57',\n",
       " '/ZERMU-Superstar-Protection-Absorption-Messi-10-Soccer-Argentina/dp/B0BQWWKBCV/ref=sr_1_58?__mk_es_US=%C3%85M%C3%85%C5%BD%C3%95%C3%91&crid=2BGCYOGCOFVLN&keywords=messi&qid=1676162328&sprefix=messi%2Caps%2C383&sr=8-58',\n",
       " '/Sean-wants-Messi-childrens-inspiration/dp/1515389987/ref=sr_1_59?__mk_es_US=%C3%85M%C3%85%C5%BD%C3%95%C3%91&crid=2BGCYOGCOFVLN&keywords=messi&qid=1676162328&sprefix=messi%2Caps%2C383&sr=8-59',\n",
       " '/adidas-Speedflow-Messi-4-Flexible-Victory/dp/B08JH8S7KB/ref=sr_1_60?__mk_es_US=%C3%85M%C3%85%C5%BD%C3%95%C3%91&crid=2BGCYOGCOFVLN&keywords=messi&qid=1676162328&sprefix=messi%2Caps%2C383&sr=8-60']"
      ]
     },
     "execution_count": 9,
     "metadata": {},
     "output_type": "execute_result"
    }
   ],
   "source": [
    "links_secciones"
   ]
  },
  {
   "cell_type": "code",
   "execution_count": 10,
   "metadata": {},
   "outputs": [],
   "source": [
    "h2s = [seccion.find(\"span\").text for seccion in lista]"
   ]
  },
  {
   "cell_type": "code",
   "execution_count": 11,
   "metadata": {},
   "outputs": [
    {
     "name": "stdout",
     "output_type": "stream",
     "text": [
      "66\n",
      "66\n"
     ]
    }
   ],
   "source": [
    "print(len(h2s))\n",
    "print(len(links_secciones))"
   ]
  },
  {
   "cell_type": "code",
   "execution_count": 52,
   "metadata": {},
   "outputs": [],
   "source": [
    "\n",
    "\n",
    "def get_links_limpia(UERRELE):\n",
    "    \n",
    "    ### primero mandamos a BS el link \n",
    "    URL = UERRELE\n",
    "    headers = {\"User-Agent\": \"Mozilla/5.0 (Windows NT 10.0; Win64; x64) AppleWebKit/537.36 (KHTML, like Gecko) Chrome/78.0.3904.108 Safari/537.36\", \"Accept-Encoding\":\"gzip, deflate\", \"Accept\":\"text/html,application/xhtml+xml,application/xml;q=0.9,*/*;q=0.8\", \"DNT\":\"1\",\"Connection\":\"close\", \"Upgrade-Insecure-Requests\":\"1\"}\n",
    "\n",
    "    page = requests.get(URL, headers=headers)\n",
    "\n",
    "    soup = BeautifulSoup(page.content, \"html.parser\")\n",
    "\n",
    "    soup2 = BeautifulSoup(soup.prettify(), \"html.parser\")\n",
    "    \n",
    "    ## Encontramos las secciones para extraer los hrefs de cada producto que aparece en la pagina\n",
    "    \n",
    "    secciones = soup.find_all(\"div\", attrs = {\"class\":\"a-section a-spacing-base\"})\n",
    "\n",
    "    ## extreamos los hrefs \n",
    "    \n",
    "    lista=[]\n",
    "    for seccion in secciones: \n",
    "        x= seccion.find(\"h2\")\n",
    "        lista.append(x)\n",
    "    links_secciones = [seccion.a.get(\"href\") for seccion in lista]\n",
    "    \n",
    "    print(links_secciones)\n",
    "    ### Extraemos los h2s de cada producto en la pagina, para botar aquellos q petenezcan a un grupo de ROPA\n",
    "    ### Aca quiero dejar de lado ropa por motivos de NLP en donde solo sean GOODIES\n",
    "    \n",
    "    h2s = [seccion.find(\"span\").text for seccion in lista]\n",
    "    \n",
    "    ## Para ello creamos un diccionario para hacer un match de palabras y luego botar por indice todas las URLS q no sirvan\n",
    "    \n",
    "    diccionario_enngrishu = [\"SHIRT\", \"shirt\", \"troussers\", \"TROUSSERS\", \"SOCKS\",\"socks\",\"jersey\",\"JERSEY\",\"cap\",\"CAP\", \"jockey\",\"JOCKEY\"]\n",
    "    diccionario_enngrishu_1 = []\n",
    "    \n",
    "    for x in diccionario_enngrishu:\n",
    "        if x is not x.upper():\n",
    "            xx = x[0].upper() + x[1:]\n",
    "            diccionario_enngrishu_1.append(xx)\n",
    "    diccionario_english_total = diccionario_enngrishu_1+diccionario_enngrishu\n",
    "    \n",
    "    ### Diccionario terminado\n",
    "    \n",
    "    ### En caso que el h2 contenga uan palabra del diccionario de ropa en ingles, entonces extraemos sus indices con la \n",
    "    ### vaina esta de abajo:    \n",
    "    lista_indices = [] \n",
    "      \n",
    "    for i, j in enumerate(h2s):\n",
    "        for x in diccionario_english_total:\n",
    "            if x in j:\n",
    "                 lista_indices.append(i)\n",
    "\n",
    "    sin_duplis = [*set(lista_indices)]\n",
    "        \n",
    "    ### ya que hemos extraido lpos indices, y las len de los h2 con las len de los Links secciones son giuales y ordenados de igual forma\n",
    "    ## procedemos a botar todos esos indices que contengan ROPAS.\n",
    "    \n",
    "    ga = []    \n",
    "    for idx, ele in enumerate(links_secciones):\n",
    "         # chekeamos si el elemento no está presente en la lista de secciones links\n",
    "        if idx not in sin_duplis:\n",
    "            ga.append(ele)\n",
    "\n",
    "            ### En caso las len sean diferentes significa que algo adna mal    \n",
    "    if len(ga) != (len(links_secciones) - len(sin_duplis)):\n",
    "        print(\"ERROR, algo pasa se están eliminando pocas o muchas secciones, revisa esta definicion\")\n",
    "            \n",
    "    return ga"
   ]
  },
  {
   "cell_type": "code",
   "execution_count": 53,
   "metadata": {},
   "outputs": [],
   "source": [
    "def itera(links):\n",
    "    links = links\n",
    "    for x in links:\n",
    "        scrapea_url('https://www.amazon.com' + x)\n",
    "        ### get de la URL con BS"
   ]
  },
  {
   "cell_type": "code",
   "execution_count": 54,
   "metadata": {},
   "outputs": [],
   "source": [
    "def scrapea_url(URL):\n",
    "          \n",
    "    URL = URL\n",
    "\n",
    "    headers = {\"User-Agent\": \"Mozilla/5.0 (Windows NT 10.0; Win64; x64) AppleWebKit/537.36 (KHTML, like Gecko) Chrome/78.0.3904.108 Safari/537.36\", \"Accept-Encoding\":\"gzip, deflate\", \"Accept\":\"text/html,application/xhtml+xml,application/xml;q=0.9,*/*;q=0.8\", \"DNT\":\"1\",\"Connection\":\"close\", \"Upgrade-Insecure-Requests\":\"1\"}\n",
    "\n",
    "    page = requests.get(URL, headers=headers)\n",
    "\n",
    "    soup1 = BeautifulSoup(page.content, \"html.parser\")\n",
    "\n",
    "    soup2 = BeautifulSoup(soup1.prettify(), \"html.parser\")\n",
    "    \n",
    "    time.sleep(0.7)\n",
    "            \n",
    "    if soup2.find(\"span\", class_='a-offscreen') is not None:\n",
    "        time.sleep(0.5)\n",
    "        price = soup2.find(\"span\", class_='a-offscreen').text\n",
    "        time.sleep(0.7)\n",
    "        price = price.strip()\n",
    "        price = price[0:]\n",
    "    else:\n",
    "        price = None\n",
    "    time.sleep(0.7)\n",
    "    \n",
    "    if soup2.find(\"span\", id='productTitle') is not None:\n",
    "        time.sleep(0.5)\n",
    "        title = soup2.find(\"span\", id='productTitle').text\n",
    "        time.sleep(0.3)\n",
    "        title = title.strip()\n",
    "        time.sleep(0.7)\n",
    "    else:\n",
    "        title = None\n",
    "    time.sleep(1.7)\n",
    "    \n",
    "    reviews = soup2.find_all(\"span\", class_='cr-original-review-content')\n",
    "    \n",
    "    time.sleep(0.99)\n",
    "    \n",
    "    reviewss = []\n",
    "    for r in reviews:\n",
    "        rr = r.text\n",
    "        time.sleep(0.9)\n",
    "        rr = rr.strip()\n",
    "        time.sleep(0.9)\n",
    "        reviewss.append(rr)\n",
    "      \n",
    "    import datetime\n",
    "    \n",
    "    today = datetime.date.today()\n",
    "    \n",
    "    import csv \n",
    "    \n",
    "    \n",
    "    header = ['Title', 'Price','Reviews','Date']\n",
    "    data = [title, price, reviewss , today]\n",
    "\n",
    "    with open('AmazonMessiScrapper.csv', 'a+', newline='', encoding='UTF8') as f:\n",
    "        writer = csv.writer(f)\n",
    "\n",
    "        writer.writerow(data)"
   ]
  },
  {
   "cell_type": "markdown",
   "metadata": {},
   "source": [
    "propando el scrapper"
   ]
  },
  {
   "cell_type": "code",
   "execution_count": 42,
   "metadata": {
    "collapsed": true
   },
   "outputs": [
    {
     "name": "stdout",
     "output_type": "stream",
     "text": [
      "['/gp/slredirect/picassoRedirect.html/ref=pa_sp_atf_aps_sr_pg1_1?ie=UTF8&adId=A0480507KSNV14Z3RX0S&qualifier=1676236300&id=7317857341681355&widgetName=sp_atf&url=%2FSignables-Premium-Facsimile-Memorabilia-Collectors%2Fdp%2FB09NWHRHSK%2Fref%3Dsr_1_1_sspa%3F__mk_es_US%3D%25C3%2585M%25C3%2585%25C5%25BD%25C3%2595%25C3%2591%26crid%3D2BGCYOGCOFVLN%26keywords%3Dmessi%26qid%3D1676236300%26sprefix%3Dmessi%252Caps%252C383%26sr%3D8-1-spons%26psc%3D1%26smid%3DA2ZLBRDQAAZOTP', '/Sticker-Waterproof-Skateboard-Scrapbook-Thanksgiving/dp/B09KKC1PY8/ref=sr_1_2?__mk_es_US=%C3%85M%C3%85%C5%BD%C3%95%C3%91&crid=2BGCYOGCOFVLN&keywords=messi&qid=1676236300&sprefix=messi%2Caps%2C383&sr=8-2', '/SoccerStarz-SOC1209-Argentina-Lionel-Figure/dp/B07BN3SQQK/ref=sr_1_3?__mk_es_US=%C3%85M%C3%85%C5%BD%C3%95%C3%91&crid=2BGCYOGCOFVLN&keywords=messi&qid=1676236300&sprefix=messi%2Caps%2C383&sr=8-3', '/COMTRUDE-Football-Pendant-Stainless-Necklace/dp/B08GCDM7WG/ref=sr_1_4?__mk_es_US=%C3%85M%C3%85%C5%BD%C3%95%C3%91&crid=2BGCYOGCOFVLN&keywords=messi&qid=1676236300&sprefix=messi%2Caps%2C383&sr=8-4', '/JDCUBAO-decorative-paintings-Decoration-Aesthetics/dp/B0BR3BY3CC/ref=sxin_15_ac_d_rm?__mk_es_US=%C3%85M%C3%85%C5%BD%C3%95%C3%91&ac_md=0-0-bWVzc2k%3D-ac_d_rm_rm_rm&content-id=amzn1.sym.b09913c7-88ee-4b06-b977-3fd4ebd29a25%3Aamzn1.sym.b09913c7-88ee-4b06-b977-3fd4ebd29a25&crid=2BGCYOGCOFVLN&cv_ct_cx=messi&keywords=messi&pd_rd_i=B0BR3BY3CC&pd_rd_r=ffb5100d-80c6-4b9e-851a-9753871adb9b&pd_rd_w=LinJf&pd_rd_wg=Oevy5&pf_rd_p=b09913c7-88ee-4b06-b977-3fd4ebd29a25&pf_rd_r=GXJVWFY5XRXV3Q46EXWF&qid=1676236300&sprefix=messi%2Caps%2C383&sr=1-1-7d9bfb42-6e38-4445-b604-42cab39e191b', '/Icon-Sports-Crowned-Champions-Barcelona/dp/B08KHW1XJH/ref=sxin_15_ac_d_rm?__mk_es_US=%C3%85M%C3%85%C5%BD%C3%95%C3%91&ac_md=1-1-bWVzc2kgaGF0-ac_d_rm_rm_rm&content-id=amzn1.sym.b09913c7-88ee-4b06-b977-3fd4ebd29a25%3Aamzn1.sym.b09913c7-88ee-4b06-b977-3fd4ebd29a25&crid=2BGCYOGCOFVLN&cv_ct_cx=messi&keywords=messi&pd_rd_i=B08KHW1XJH&pd_rd_r=ffb5100d-80c6-4b9e-851a-9753871adb9b&pd_rd_w=LinJf&pd_rd_wg=Oevy5&pf_rd_p=b09913c7-88ee-4b06-b977-3fd4ebd29a25&pf_rd_r=GXJVWFY5XRXV3Q46EXWF&qid=1676236300&sprefix=messi%2Caps%2C383&sr=1-2-7d9bfb42-6e38-4445-b604-42cab39e191b', '/Icon-Sports-Reversible-Champions-Barcelona/dp/B08KHWTRH8/ref=sxin_15_ac_d_rm?__mk_es_US=%C3%85M%C3%85%C5%BD%C3%95%C3%91&ac_md=4-2-YmFyY2Vsb25hIHNvY2Nlcg%3D%3D-ac_d_rm_rm_rm&content-id=amzn1.sym.b09913c7-88ee-4b06-b977-3fd4ebd29a25%3Aamzn1.sym.b09913c7-88ee-4b06-b977-3fd4ebd29a25&crid=2BGCYOGCOFVLN&cv_ct_cx=messi&keywords=messi&pd_rd_i=B08KHWTRH8&pd_rd_r=ffb5100d-80c6-4b9e-851a-9753871adb9b&pd_rd_w=LinJf&pd_rd_wg=Oevy5&pf_rd_p=b09913c7-88ee-4b06-b977-3fd4ebd29a25&pf_rd_r=GXJVWFY5XRXV3Q46EXWF&qid=1676236300&sprefix=messi%2Caps%2C383&sr=1-3-7d9bfb42-6e38-4445-b604-42cab39e191b', '/Barcelona-Aluminium-Messi-Drink-Bottle/dp/B0066WOEOE/ref=sxin_15_ac_d_rm?__mk_es_US=%C3%85M%C3%85%C5%BD%C3%95%C3%91&ac_md=5-3-bWVzc2kgd2F0ZXIgYm90dGxl-ac_d_rm_rm_rm&content-id=amzn1.sym.b09913c7-88ee-4b06-b977-3fd4ebd29a25%3Aamzn1.sym.b09913c7-88ee-4b06-b977-3fd4ebd29a25&crid=2BGCYOGCOFVLN&cv_ct_cx=messi&keywords=messi&pd_rd_i=B0066WOEOE&pd_rd_r=ffb5100d-80c6-4b9e-851a-9753871adb9b&pd_rd_w=LinJf&pd_rd_wg=Oevy5&pf_rd_p=b09913c7-88ee-4b06-b977-3fd4ebd29a25&pf_rd_r=GXJVWFY5XRXV3Q46EXWF&qid=1676236300&sprefix=messi%2Caps%2C383&sr=1-4-7d9bfb42-6e38-4445-b604-42cab39e191b', '/Barcelona-Drinks-Bottle-750ml-Authentic/dp/B07W3K8P2H/ref=sxin_15_ac_d_rm?__mk_es_US=%C3%85M%C3%85%C5%BD%C3%95%C3%91&ac_md=7-4-YmFyY2E%3D-ac_d_rm_rm_rm&content-id=amzn1.sym.b09913c7-88ee-4b06-b977-3fd4ebd29a25%3Aamzn1.sym.b09913c7-88ee-4b06-b977-3fd4ebd29a25&crid=2BGCYOGCOFVLN&cv_ct_cx=messi&keywords=messi&pd_rd_i=B07W3K8P2H&pd_rd_r=ffb5100d-80c6-4b9e-851a-9753871adb9b&pd_rd_w=LinJf&pd_rd_wg=Oevy5&pf_rd_p=b09913c7-88ee-4b06-b977-3fd4ebd29a25&pf_rd_r=GXJVWFY5XRXV3Q46EXWF&qid=1676236300&sprefix=messi%2Caps%2C383&sr=1-5-7d9bfb42-6e38-4445-b604-42cab39e191b', '/MJGUYS-Youth-Sportswear-Soccer-Sleeve/dp/B0BK24BSJR/ref=sr_1_5?__mk_es_US=%C3%85M%C3%85%C5%BD%C3%95%C3%91&crid=2BGCYOGCOFVLN&keywords=messi&qid=1676236300&sprefix=messi%2Caps%2C383&sr=8-5', '/Slrioks-Jersey-Leather-Silicone-Shockproof/dp/B0BS2THR7T/ref=sr_1_6?__mk_es_US=%C3%85M%C3%85%C5%BD%C3%95%C3%91&crid=2BGCYOGCOFVLN&keywords=messi&qid=1676236300&sprefix=messi%2Caps%2C383&sr=8-6', '/Superstars-Lionel-Signature-Dormitory-Aesthetic-Decoration/dp/B0BQH3VL48/ref=sr_1_7?__mk_es_US=%C3%85M%C3%85%C5%BD%C3%95%C3%91&crid=2BGCYOGCOFVLN&keywords=messi&qid=1676236300&sprefix=messi%2Caps%2C383&sr=8-7', '/JDCUBAO-decorative-paintings-Decoration-Aesthetics/dp/B0BR3BY3CC/ref=sr_1_8?__mk_es_US=%C3%85M%C3%85%C5%BD%C3%95%C3%91&crid=2BGCYOGCOFVLN&keywords=messi&qid=1676236300&sprefix=messi%2Caps%2C383&sr=8-8', '/Messi-Johan-Cruyff/dp/B07J35WQ9Z/ref=sr_1_9?__mk_es_US=%C3%85M%C3%85%C5%BD%C3%95%C3%91&crid=2BGCYOGCOFVLN&keywords=messi&qid=1676236300&sprefix=messi%2Caps%2C383&sr=8-9', '/Messi-Inspiring-children-players-history/dp/1974634116/ref=sr_1_10?__mk_es_US=%C3%85M%C3%85%C5%BD%C3%95%C3%91&crid=2BGCYOGCOFVLN&keywords=messi&qid=1676236300&sprefix=messi%2Caps%2C383&sr=8-10', '/Lanyard-Germain-Official-Licensed-neckstrap/dp/B09PJRDJDL/ref=sr_1_11?__mk_es_US=%C3%85M%C3%85%C5%BD%C3%95%C3%91&crid=2BGCYOGCOFVLN&keywords=messi&qid=1676236300&sprefix=messi%2Caps%2C383&sr=8-11', '/Lionel-Jersey-Season-Unbranded-Version/dp/B0BJVB82L5/ref=sr_1_12?__mk_es_US=%C3%85M%C3%85%C5%BD%C3%95%C3%91&crid=2BGCYOGCOFVLN&keywords=messi&qid=1676236300&sprefix=messi%2Caps%2C383&sr=8-12', '/Signables-Premium-Facsimile-Memorabilia-Collectors/dp/B09NWHRHSK/ref=sr_1_13?__mk_es_US=%C3%85M%C3%85%C5%BD%C3%95%C3%91&crid=2BGCYOGCOFVLN&keywords=messi&qid=1676236300&sprefix=messi%2Caps%2C383&sr=8-13', '/Decorative-posters-bedroom-Victory-Frameless/dp/B0B7XRMKZG/ref=sr_1_14?__mk_es_US=%C3%85M%C3%85%C5%BD%C3%95%C3%91&crid=2BGCYOGCOFVLN&keywords=messi&qid=1676236300&sprefix=messi%2Caps%2C383&sr=8-14', '/Messi-vs-Ronaldo-Rivalry-Remade/dp/0063157179/ref=sr_1_15?__mk_es_US=%C3%85M%C3%85%C5%BD%C3%95%C3%91&crid=2BGCYOGCOFVLN&keywords=messi&qid=1676236300&sprefix=messi%2Caps%2C383&sr=8-15', '/Messi/dp/B088ZVFFTZ/ref=sr_1_16?__mk_es_US=%C3%85M%C3%85%C5%BD%C3%95%C3%91&crid=2BGCYOGCOFVLN&keywords=messi&qid=1676236300&sprefix=messi%2Caps%2C383&sr=8-16', '/gp/slredirect/picassoRedirect.html/ref=pa_sp_mtf_aps_sr_pg1_1?ie=UTF8&adId=A027476333MWLQ44OFE93&qualifier=1676236300&id=7317857341681355&widgetName=sp_mtf&url=%2FFootball-Superstar-Ronaldo-11-7x16-5-UNFRAMED%2Fdp%2FB0BLMPZ5J7%2Fref%3Dsr_1_17_sspa%3F__mk_es_US%3D%25C3%2585M%25C3%2585%25C5%25BD%25C3%2595%25C3%2591%26crid%3D2BGCYOGCOFVLN%26keywords%3Dmessi%26qid%3D1676236300%26sprefix%3Dmessi%252Caps%252C383%26sr%3D8-17-spons%26psc%3D1', '/Barcelona-Lionel-Officially-Licensed-Sweatshirt/dp/B08M4BKVD6/ref=sr_1_18?__mk_es_US=%C3%85M%C3%85%C5%BD%C3%95%C3%91&crid=2BGCYOGCOFVLN&keywords=messi&qid=1676236300&sprefix=messi%2Caps%2C383&sr=8-18', '/Superstar-Decorative-Paintings-Decoration-Aesthetics/dp/B0BMLQKDX9/ref=sr_1_19?__mk_es_US=%C3%85M%C3%85%C5%BD%C3%95%C3%91&crid=2BGCYOGCOFVLN&keywords=messi&qid=1676236300&sprefix=messi%2Caps%2C383&sr=8-19', '/Funko-Pop-Football-Saint-Germain-Lionel/dp/B09YDH36XR/ref=sr_1_20?__mk_es_US=%C3%85M%C3%85%C5%BD%C3%95%C3%91&crid=2BGCYOGCOFVLN&keywords=messi&qid=1676236300&sprefix=messi%2Caps%2C383&sr=8-20', '/Gengx-Schoolbag-Daypack-Student-Backpack/dp/B0B1TY736K/ref=sr_1_21?__mk_es_US=%C3%85M%C3%85%C5%BD%C3%95%C3%91&crid=2BGCYOGCOFVLN&keywords=messi&qid=1676236300&sprefix=messi%2Caps%2C383&sr=8-21', '/gp/slredirect/picassoRedirect.html/ref=pa_sp_mtf_aps_sr_pg1_1?ie=UTF8&adId=A0316950MRQ6PXZHAGS5&qualifier=1676236300&id=7317857341681355&widgetName=sp_mtf&url=%2FAcademy-T-Z-Layton%2Fdp%2F1955804087%2Fref%3Dsr_1_22_sspa%3F__mk_es_US%3D%25C3%2585M%25C3%2585%25C5%25BD%25C3%2595%25C3%2591%26crid%3D2BGCYOGCOFVLN%26keywords%3Dmessi%26qid%3D1676236300%26sprefix%3Dmessi%252Caps%252C383%26sr%3D8-22-spons%26psc%3D1', '/gp/slredirect/picassoRedirect.html/ref=pa_sp_mtf_aps_sr_pg1_1?ie=UTF8&adId=A0402638HZUCMEMMHZSR&qualifier=1676236300&id=7317857341681355&widgetName=sp_mtf&url=%2FFlea-Amazing-Story-Leo-Messi%2Fdp%2F1938591097%2Fref%3Dsr_1_23_sspa%3F__mk_es_US%3D%25C3%2585M%25C3%2585%25C5%25BD%25C3%2595%25C3%2591%26crid%3D2BGCYOGCOFVLN%26keywords%3Dmessi%26qid%3D1676236300%26sprefix%3Dmessi%252Caps%252C383%26sr%3D8-23-spons%26psc%3D1', '/gp/slredirect/picassoRedirect.html/ref=pa_sp_mtf_aps_sr_pg1_1?ie=UTF8&adId=A02231002SXUBVBLIDDSP&qualifier=1676236300&id=7317857341681355&widgetName=sp_mtf&url=%2FRonaldo-Picture-Paintings-Decoration-12x18inc%2Fdp%2FB0BN7VD6FP%2Fref%3Dsr_1_24_sspa%3F__mk_es_US%3D%25C3%2585M%25C3%2585%25C5%25BD%25C3%2595%25C3%2591%26crid%3D2BGCYOGCOFVLN%26keywords%3Dmessi%26qid%3D1676236300%26sprefix%3Dmessi%252Caps%252C383%26sr%3D8-24-spons%26psc%3D1', '/gp/slredirect/picassoRedirect.html/ref=pa_sp_mtf_aps_sr_pg1_1?ie=UTF8&adId=A0921269TYGAN4LXZVL4&qualifier=1676236300&id=7317857341681355&widgetName=sp_mtf&url=%2FFANCHUANG-Motivational-Inspirational-Unframe-style-12x18inch%2Fdp%2FB0B1JRVV71%2Fref%3Dsr_1_25_sspa%3F__mk_es_US%3D%25C3%2585M%25C3%2585%25C5%25BD%25C3%2595%25C3%2591%26crid%3D2BGCYOGCOFVLN%26keywords%3Dmessi%26qid%3D1676236300%26sprefix%3Dmessi%252Caps%252C383%26sr%3D8-25-spons%26psc%3D1', '/Icon-Sports-Barcelona-Officially-Sweatshirt/dp/B08M4HZWNN/ref=sr_1_26?__mk_es_US=%C3%85M%C3%85%C5%BD%C3%95%C3%91&crid=2BGCYOGCOFVLN&keywords=messi&qid=1676236300&sprefix=messi%2Caps%2C383&sr=8-26', '/Lionel-Messi-12x8-Signed-CELEBRATION/dp/B07C5VQT6Y/ref=sr_1_27?__mk_es_US=%C3%85M%C3%85%C5%BD%C3%95%C3%91&crid=2BGCYOGCOFVLN&keywords=messi&qid=1676236300&sprefix=messi%2Caps%2C383&sr=8-27', '/Icon-Sports-Barcelona-Officially-Sweatshirt/dp/B08M4HT8Y9/ref=sr_1_28?__mk_es_US=%C3%85M%C3%85%C5%BD%C3%95%C3%91&crid=2BGCYOGCOFVLN&keywords=messi&qid=1676236300&sprefix=messi%2Caps%2C383&sr=8-28', '/Messi-Leo/dp/B07B11QGZC/ref=sr_1_29?__mk_es_US=%C3%85M%C3%85%C5%BD%C3%95%C3%91&crid=2BGCYOGCOFVLN&keywords=messi&qid=1676236300&sprefix=messi%2Caps%2C383&sr=8-29', '/gp/slredirect/picassoRedirect.html/ref=pa_sp_mtf_aps_sr_pg1_1?ie=UTF8&adId=A08325272VHGH2LHU9SXB&qualifier=1676236300&id=7317857341681355&widgetName=sp_mtf&url=%2FFootball-Sports-Picture-12x18inchs-30x45cm%2Fdp%2FB0BDQVW5TR%2Fref%3Dsr_1_30_sspa%3F__mk_es_US%3D%25C3%2585M%25C3%2585%25C5%25BD%25C3%2595%25C3%2591%26crid%3D2BGCYOGCOFVLN%26keywords%3Dmessi%26qid%3D1676236300%26sprefix%3Dmessi%252Caps%252C383%26sr%3D8-30-spons%26psc%3D1', '/gp/slredirect/picassoRedirect.html/ref=pa_sp_mtf_aps_sr_pg1_1?ie=UTF8&adId=A00403462PKCOQ2A4T0R2&qualifier=1676236300&id=7317857341681355&widgetName=sp_mtf&url=%2FNITDODI-Poster-Lionel-Football-Decor-Best-Fans-12in%25C3%259718in%2Fdp%2FB0BF19WZJD%2Fref%3Dsr_1_31_sspa%3F__mk_es_US%3D%25C3%2585M%25C3%2585%25C5%25BD%25C3%2595%25C3%2591%26crid%3D2BGCYOGCOFVLN%26keywords%3Dmessi%26qid%3D1676236300%26sprefix%3Dmessi%252Caps%252C383%26sr%3D8-31-spons%26psc%3D1', '/gp/slredirect/picassoRedirect.html/ref=pa_sp_mtf_aps_sr_pg1_1?ie=UTF8&adId=A04475831HWXJ2U4MNIQ0&qualifier=1676236300&id=7317857341681355&widgetName=sp_mtf&url=%2FLionel-Messi-Stardom-Roy-Brandon%2Fdp%2F1530690773%2Fref%3Dsr_1_32_sspa%3F__mk_es_US%3D%25C3%2585M%25C3%2585%25C5%25BD%25C3%2595%25C3%2591%26crid%3D2BGCYOGCOFVLN%26keywords%3Dmessi%26qid%3D1676236300%26sprefix%3Dmessi%252Caps%252C383%26sr%3D8-32-spons%26psc%3D1', '/gp/slredirect/picassoRedirect.html/ref=pa_sp_mtf_aps_sr_pg1_1?ie=UTF8&adId=A0594465VVNYUPS1CCDN&qualifier=1676236300&id=7317857341681355&widgetName=sp_mtf&url=%2FMessi-Inspiring-children-players-history%2Fdp%2F1974634116%2Fref%3Dsr_1_33_sspa%3F__mk_es_US%3D%25C3%2585M%25C3%2585%25C5%25BD%25C3%2595%25C3%2591%26crid%3D2BGCYOGCOFVLN%26keywords%3Dmessi%26qid%3D1676236300%26sprefix%3Dmessi%252Caps%252C383%26sr%3D8-33-spons%26psc%3D1', '/Soccer-Superstar-Lionel-Football-Motivational/dp/B0B2NSYYPZ/ref=sr_1_34?__mk_es_US=%C3%85M%C3%85%C5%BD%C3%95%C3%91&crid=2BGCYOGCOFVLN&keywords=messi&qid=1676236300&sprefix=messi%2Caps%2C383&sr=8-34', '/adidas-unisex-youth-Messi-Royal-Yellow/dp/B08143SPH1/ref=sr_1_35?__mk_es_US=%C3%85M%C3%85%C5%BD%C3%95%C3%91&crid=2BGCYOGCOFVLN&keywords=messi&qid=1676236300&sprefix=messi%2Caps%2C383&sr=8-35', '/Ronaldo-Vs-Messi-Faceoff-Cristiano/dp/B07BCDJXGZ/ref=sr_1_36?__mk_es_US=%C3%85M%C3%85%C5%BD%C3%95%C3%91&crid=2BGCYOGCOFVLN&keywords=messi&qid=1676236300&sprefix=messi%2Caps%2C383&sr=8-36', '/Flea-Amazing-Story-Leo-Messi/dp/1938591097/ref=sr_1_37?__mk_es_US=%C3%85M%C3%85%C5%BD%C3%95%C3%91&crid=2BGCYOGCOFVLN&keywords=messi&qid=1676236300&sprefix=messi%2Caps%2C383&sr=8-37', '/gp/slredirect/picassoRedirect.html/ref=pa_sp_mtf_aps_sr_pg1_1?ie=UTF8&adId=A02230001VPCE7FDK2WS3&qualifier=1676236300&id=7317857341681355&widgetName=sp_mtf&url=%2FSuperstar-Decorative-Paintings-Decoration-Aesthetics%2Fdp%2FB0BMLQKDX9%2Fref%3Dsr_1_38_sspa%3F__mk_es_US%3D%25C3%2585M%25C3%2585%25C5%25BD%25C3%2595%25C3%2591%26crid%3D2BGCYOGCOFVLN%26keywords%3Dmessi%26qid%3D1676236300%26sprefix%3Dmessi%252Caps%252C383%26sr%3D8-38-spons%26psc%3D1', '/gp/slredirect/picassoRedirect.html/ref=pa_sp_mtf_aps_sr_pg1_1?ie=UTF8&adId=A09833711DMZWB2WG7S4O&qualifier=1676236300&id=7317857341681355&widgetName=sp_mtf&url=%2FNITDODI-Poster-Cristiano-Decor-Best-Fans-16in%25C3%259724in-Cristiano-1%2Fdp%2FB0BN1BC595%2Fref%3Dsr_1_39_sspa%3F__mk_es_US%3D%25C3%2585M%25C3%2585%25C5%25BD%25C3%2595%25C3%2591%26crid%3D2BGCYOGCOFVLN%26keywords%3Dmessi%26qid%3D1676236300%26sprefix%3Dmessi%252Caps%252C383%26sr%3D8-39-spons%26psc%3D1', '/Barcelona-Jersey-2019-2020-9-10Year-Messi-Away/dp/B084SS5SJ5/ref=sr_1_40?__mk_es_US=%C3%85M%C3%85%C5%BD%C3%95%C3%91&crid=2BGCYOGCOFVLN&keywords=messi&qid=1676236300&sprefix=messi%2Caps%2C383&sr=8-40', '/WONDER/dp/B086HWXZ6D/ref=sr_1_41?__mk_es_US=%C3%85M%C3%85%C5%BD%C3%95%C3%91&crid=2BGCYOGCOFVLN&keywords=messi&qid=1676236300&sprefix=messi%2Caps%2C383&sr=8-41', '/Euroscarves-Argentina-Soccer-Scarf-Champions/dp/B0BQZHXP2W/ref=sr_1_42?__mk_es_US=%C3%85M%C3%85%C5%BD%C3%95%C3%91&crid=2BGCYOGCOFVLN&keywords=messi&qid=1676236300&sprefix=messi%2Caps%2C383&sr=8-42', '/Stickers-Waterproof-Skateboard-Computer-Aesthetic/dp/B0BMXMQF1D/ref=sr_1_43?__mk_es_US=%C3%85M%C3%85%C5%BD%C3%95%C3%91&crid=2BGCYOGCOFVLN&keywords=messi&qid=1676236300&sprefix=messi%2Caps%2C383&sr=8-43', '/Jersey-Badge-Soccer-Football-Youth/dp/B0BS1LRH1P/ref=sr_1_44?__mk_es_US=%C3%85M%C3%85%C5%BD%C3%95%C3%91&crid=2BGCYOGCOFVLN&keywords=messi&qid=1676236300&sprefix=messi%2Caps%2C383&sr=8-44', '/Lionel-Messi-Greatest-Steve-Wilson/dp/B0859SRJ59/ref=sr_1_45?__mk_es_US=%C3%85M%C3%85%C5%BD%C3%95%C3%91&crid=2BGCYOGCOFVLN&keywords=messi&qid=1676236300&sprefix=messi%2Caps%2C383&sr=8-45', '/Epic-Athletes-Lionel-Dan-Wetzel/dp/1250619831/ref=sr_1_46?__mk_es_US=%C3%85M%C3%85%C5%BD%C3%95%C3%91&crid=2BGCYOGCOFVLN&keywords=messi&qid=1676236300&sprefix=messi%2Caps%2C383&sr=8-46', '/Cristiano-Watercolor-Superstar-Inspirational-Football/dp/B0BGLMK7Z1/ref=sr_1_47?__mk_es_US=%C3%85M%C3%85%C5%BD%C3%95%C3%91&crid=2BGCYOGCOFVLN&keywords=messi&qid=1676236300&sprefix=messi%2Caps%2C383&sr=8-47', '/adidas-Nemeziz-Ground-Silver-Yellow/dp/B0811J81RC/ref=sr_1_48?__mk_es_US=%C3%85M%C3%85%C5%BD%C3%95%C3%91&crid=2BGCYOGCOFVLN&keywords=messi&qid=1676236300&sprefix=messi%2Caps%2C383&sr=8-48', '/ZERMU-Superstar-Protection-Absorption-Messi-10-Soccer-Argentina/dp/B0BQWXK767/ref=sr_1_49?__mk_es_US=%C3%85M%C3%85%C5%BD%C3%95%C3%91&crid=2BGCYOGCOFVLN&keywords=messi&qid=1676236300&sprefix=messi%2Caps%2C383&sr=8-49', '/Football-Superstar-Ronaldo-11-7x16-5-UNFRAMED/dp/B0BLMPZ5J7/ref=sr_1_50?__mk_es_US=%C3%85M%C3%85%C5%BD%C3%95%C3%91&crid=2BGCYOGCOFVLN&keywords=messi&qid=1676236300&sprefix=messi%2Caps%2C383&sr=8-50', '/Lionel-Messi-Real-Marie-Morreale/dp/0531225631/ref=sr_1_51?__mk_es_US=%C3%85M%C3%85%C5%BD%C3%95%C3%91&crid=2BGCYOGCOFVLN&keywords=messi&qid=1676236300&sprefix=messi%2Caps%2C383&sr=8-51', '/Soccer-Mom-Missi-Pyle/dp/B07ZGFH7C6/ref=sr_1_52?__mk_es_US=%C3%85M%C3%85%C5%BD%C3%95%C3%91&crid=2BGCYOGCOFVLN&keywords=messi&qid=1676236300&sprefix=messi%2Caps%2C383&sr=8-52', '/Hkitmart-Argentina-Soccer-Jersey-World/dp/B0BR1Z7V1X/ref=sr_1_53?__mk_es_US=%C3%85M%C3%85%C5%BD%C3%95%C3%91&crid=2BGCYOGCOFVLN&keywords=messi&qid=1676236300&sprefix=messi%2Caps%2C383&sr=8-53', '/adidas-Speedflow-Messi-4-Flexible-Victory/dp/B08JH8S7KB/ref=sr_1_54?__mk_es_US=%C3%85M%C3%85%C5%BD%C3%95%C3%91&crid=2BGCYOGCOFVLN&keywords=messi&qid=1676236300&sprefix=messi%2Caps%2C383&sr=8-54', '/ZERMU-Superstar-Protection-Absorption-Messi-10-Soccer-Argentina/dp/B0BQN8HKR6/ref=sr_1_55?__mk_es_US=%C3%85M%C3%85%C5%BD%C3%95%C3%91&crid=2BGCYOGCOFVLN&keywords=messi&qid=1676236300&sprefix=messi%2Caps%2C383&sr=8-55', '/Make-Us-Dream-Steven-Gerrard/dp/B08CS5D72Z/ref=sr_1_56?__mk_es_US=%C3%85M%C3%85%C5%BD%C3%95%C3%91&crid=2BGCYOGCOFVLN&keywords=messi&qid=1676236300&sprefix=messi%2Caps%2C383&sr=8-56', '/Mofanmi-Art-Cristiano-16in%C3%9724in-40cm%C3%9760cm/dp/B09TP6TGDY/ref=sr_1_57?__mk_es_US=%C3%85M%C3%85%C5%BD%C3%95%C3%91&crid=2BGCYOGCOFVLN&keywords=messi&qid=1676236300&sprefix=messi%2Caps%2C383&sr=8-57', '/HIGGEL-Football-Posters-Unframe-style-12x18inch/dp/B0BMGQX2X6/ref=sr_1_58?__mk_es_US=%C3%85M%C3%85%C5%BD%C3%95%C3%91&crid=2BGCYOGCOFVLN&keywords=messi&qid=1676236300&sprefix=messi%2Caps%2C383&sr=8-58', '/Sean-wants-Messi-childrens-inspiration/dp/1515389987/ref=sr_1_59?__mk_es_US=%C3%85M%C3%85%C5%BD%C3%95%C3%91&crid=2BGCYOGCOFVLN&keywords=messi&qid=1676236300&sprefix=messi%2Caps%2C383&sr=8-59', '/Uniform-Keychain-Bracelet-Football-7-8ears/dp/B08R27D867/ref=sr_1_60?__mk_es_US=%C3%85M%C3%85%C5%BD%C3%95%C3%91&crid=2BGCYOGCOFVLN&keywords=messi&qid=1676236300&sprefix=messi%2Caps%2C383&sr=8-60']\n"
     ]
    }
   ],
   "source": [
    "URL = \"https://www.amazon.com/s?k=messi&__mk_es_US=%C3%85M%C3%85%C5%BD%C3%95%C3%91&crid=2BGCYOGCOFVLN&sprefix=messi%2Caps%2C383&ref=nb_sb_noss_1\"\n",
    "mis_links_scrap = get_links_limpia(URL)"
   ]
  },
  {
   "cell_type": "code",
   "execution_count": 43,
   "metadata": {},
   "outputs": [
    {
     "data": {
      "text/plain": [
       "55"
      ]
     },
     "execution_count": 43,
     "metadata": {},
     "output_type": "execute_result"
    }
   ],
   "source": [
    "len(mis_links_scrap)"
   ]
  },
  {
   "cell_type": "code",
   "execution_count": 55,
   "metadata": {},
   "outputs": [],
   "source": [
    "mis_links_scrap = mis_links_scrap[:4]"
   ]
  },
  {
   "cell_type": "code",
   "execution_count": 56,
   "metadata": {},
   "outputs": [],
   "source": [
    "itera(mis_links_scrap)"
   ]
  },
  {
   "cell_type": "code",
   "execution_count": 50,
   "metadata": {
    "collapsed": true
   },
   "outputs": [
    {
     "data": {
      "text/plain": [
       "['/gp/slredirect/picassoRedirect.html/ref=pa_sp_atf_aps_sr_pg1_1?ie=UTF8&adId=A0480507KSNV14Z3RX0S&qualifier=1676236300&id=7317857341681355&widgetName=sp_atf&url=%2FSignables-Premium-Facsimile-Memorabilia-Collectors%2Fdp%2FB09NWHRHSK%2Fref%3Dsr_1_1_sspa%3F__mk_es_US%3D%25C3%2585M%25C3%2585%25C5%25BD%25C3%2595%25C3%2591%26crid%3D2BGCYOGCOFVLN%26keywords%3Dmessi%26qid%3D1676236300%26sprefix%3Dmessi%252Caps%252C383%26sr%3D8-1-spons%26psc%3D1%26smid%3DA2ZLBRDQAAZOTP',\n",
       " '/Sticker-Waterproof-Skateboard-Scrapbook-Thanksgiving/dp/B09KKC1PY8/ref=sr_1_2?__mk_es_US=%C3%85M%C3%85%C5%BD%C3%95%C3%91&crid=2BGCYOGCOFVLN&keywords=messi&qid=1676236300&sprefix=messi%2Caps%2C383&sr=8-2',\n",
       " '/SoccerStarz-SOC1209-Argentina-Lionel-Figure/dp/B07BN3SQQK/ref=sr_1_3?__mk_es_US=%C3%85M%C3%85%C5%BD%C3%95%C3%91&crid=2BGCYOGCOFVLN&keywords=messi&qid=1676236300&sprefix=messi%2Caps%2C383&sr=8-3',\n",
       " '/COMTRUDE-Football-Pendant-Stainless-Necklace/dp/B08GCDM7WG/ref=sr_1_4?__mk_es_US=%C3%85M%C3%85%C5%BD%C3%95%C3%91&crid=2BGCYOGCOFVLN&keywords=messi&qid=1676236300&sprefix=messi%2Caps%2C383&sr=8-4',\n",
       " '/JDCUBAO-decorative-paintings-Decoration-Aesthetics/dp/B0BR3BY3CC/ref=sxin_15_ac_d_rm?__mk_es_US=%C3%85M%C3%85%C5%BD%C3%95%C3%91&ac_md=0-0-bWVzc2k%3D-ac_d_rm_rm_rm&content-id=amzn1.sym.b09913c7-88ee-4b06-b977-3fd4ebd29a25%3Aamzn1.sym.b09913c7-88ee-4b06-b977-3fd4ebd29a25&crid=2BGCYOGCOFVLN&cv_ct_cx=messi&keywords=messi&pd_rd_i=B0BR3BY3CC&pd_rd_r=ffb5100d-80c6-4b9e-851a-9753871adb9b&pd_rd_w=LinJf&pd_rd_wg=Oevy5&pf_rd_p=b09913c7-88ee-4b06-b977-3fd4ebd29a25&pf_rd_r=GXJVWFY5XRXV3Q46EXWF&qid=1676236300&sprefix=messi%2Caps%2C383&sr=1-1-7d9bfb42-6e38-4445-b604-42cab39e191b',\n",
       " '/Icon-Sports-Crowned-Champions-Barcelona/dp/B08KHW1XJH/ref=sxin_15_ac_d_rm?__mk_es_US=%C3%85M%C3%85%C5%BD%C3%95%C3%91&ac_md=1-1-bWVzc2kgaGF0-ac_d_rm_rm_rm&content-id=amzn1.sym.b09913c7-88ee-4b06-b977-3fd4ebd29a25%3Aamzn1.sym.b09913c7-88ee-4b06-b977-3fd4ebd29a25&crid=2BGCYOGCOFVLN&cv_ct_cx=messi&keywords=messi&pd_rd_i=B08KHW1XJH&pd_rd_r=ffb5100d-80c6-4b9e-851a-9753871adb9b&pd_rd_w=LinJf&pd_rd_wg=Oevy5&pf_rd_p=b09913c7-88ee-4b06-b977-3fd4ebd29a25&pf_rd_r=GXJVWFY5XRXV3Q46EXWF&qid=1676236300&sprefix=messi%2Caps%2C383&sr=1-2-7d9bfb42-6e38-4445-b604-42cab39e191b',\n",
       " '/Icon-Sports-Reversible-Champions-Barcelona/dp/B08KHWTRH8/ref=sxin_15_ac_d_rm?__mk_es_US=%C3%85M%C3%85%C5%BD%C3%95%C3%91&ac_md=4-2-YmFyY2Vsb25hIHNvY2Nlcg%3D%3D-ac_d_rm_rm_rm&content-id=amzn1.sym.b09913c7-88ee-4b06-b977-3fd4ebd29a25%3Aamzn1.sym.b09913c7-88ee-4b06-b977-3fd4ebd29a25&crid=2BGCYOGCOFVLN&cv_ct_cx=messi&keywords=messi&pd_rd_i=B08KHWTRH8&pd_rd_r=ffb5100d-80c6-4b9e-851a-9753871adb9b&pd_rd_w=LinJf&pd_rd_wg=Oevy5&pf_rd_p=b09913c7-88ee-4b06-b977-3fd4ebd29a25&pf_rd_r=GXJVWFY5XRXV3Q46EXWF&qid=1676236300&sprefix=messi%2Caps%2C383&sr=1-3-7d9bfb42-6e38-4445-b604-42cab39e191b',\n",
       " '/Barcelona-Aluminium-Messi-Drink-Bottle/dp/B0066WOEOE/ref=sxin_15_ac_d_rm?__mk_es_US=%C3%85M%C3%85%C5%BD%C3%95%C3%91&ac_md=5-3-bWVzc2kgd2F0ZXIgYm90dGxl-ac_d_rm_rm_rm&content-id=amzn1.sym.b09913c7-88ee-4b06-b977-3fd4ebd29a25%3Aamzn1.sym.b09913c7-88ee-4b06-b977-3fd4ebd29a25&crid=2BGCYOGCOFVLN&cv_ct_cx=messi&keywords=messi&pd_rd_i=B0066WOEOE&pd_rd_r=ffb5100d-80c6-4b9e-851a-9753871adb9b&pd_rd_w=LinJf&pd_rd_wg=Oevy5&pf_rd_p=b09913c7-88ee-4b06-b977-3fd4ebd29a25&pf_rd_r=GXJVWFY5XRXV3Q46EXWF&qid=1676236300&sprefix=messi%2Caps%2C383&sr=1-4-7d9bfb42-6e38-4445-b604-42cab39e191b',\n",
       " '/Barcelona-Drinks-Bottle-750ml-Authentic/dp/B07W3K8P2H/ref=sxin_15_ac_d_rm?__mk_es_US=%C3%85M%C3%85%C5%BD%C3%95%C3%91&ac_md=7-4-YmFyY2E%3D-ac_d_rm_rm_rm&content-id=amzn1.sym.b09913c7-88ee-4b06-b977-3fd4ebd29a25%3Aamzn1.sym.b09913c7-88ee-4b06-b977-3fd4ebd29a25&crid=2BGCYOGCOFVLN&cv_ct_cx=messi&keywords=messi&pd_rd_i=B07W3K8P2H&pd_rd_r=ffb5100d-80c6-4b9e-851a-9753871adb9b&pd_rd_w=LinJf&pd_rd_wg=Oevy5&pf_rd_p=b09913c7-88ee-4b06-b977-3fd4ebd29a25&pf_rd_r=GXJVWFY5XRXV3Q46EXWF&qid=1676236300&sprefix=messi%2Caps%2C383&sr=1-5-7d9bfb42-6e38-4445-b604-42cab39e191b',\n",
       " '/Superstars-Lionel-Signature-Dormitory-Aesthetic-Decoration/dp/B0BQH3VL48/ref=sr_1_7?__mk_es_US=%C3%85M%C3%85%C5%BD%C3%95%C3%91&crid=2BGCYOGCOFVLN&keywords=messi&qid=1676236300&sprefix=messi%2Caps%2C383&sr=8-7']"
      ]
     },
     "execution_count": 50,
     "metadata": {},
     "output_type": "execute_result"
    }
   ],
   "source": [
    "mis_links_scrap"
   ]
  },
  {
   "cell_type": "code",
   "execution_count": null,
   "metadata": {},
   "outputs": [],
   "source": []
  },
  {
   "cell_type": "code",
   "execution_count": null,
   "metadata": {},
   "outputs": [],
   "source": []
  },
  {
   "cell_type": "code",
   "execution_count": null,
   "metadata": {},
   "outputs": [],
   "source": []
  },
  {
   "cell_type": "code",
   "execution_count": null,
   "metadata": {},
   "outputs": [],
   "source": []
  },
  {
   "cell_type": "markdown",
   "metadata": {},
   "source": [
    "##  Diccionario creacion"
   ]
  },
  {
   "cell_type": "code",
   "execution_count": 144,
   "metadata": {},
   "outputs": [],
   "source": [
    "diccionario_min = [\"polo\",\"camiseta\",\"camisa\",\"pantalon\", \"medias\",\"sudadera\", \"gorra\"]\n",
    "diccionario_soloprim = []\n",
    "diccionario_may = []"
   ]
  },
  {
   "cell_type": "code",
   "execution_count": 145,
   "metadata": {},
   "outputs": [],
   "source": [
    "#[x. for x in algo if \"polo\" not in x]"
   ]
  },
  {
   "cell_type": "code",
   "execution_count": 146,
   "metadata": {},
   "outputs": [
    {
     "data": {
      "text/plain": [
       "['polo',\n",
       " 'camiseta',\n",
       " 'camisa',\n",
       " 'pantalon',\n",
       " 'medias',\n",
       " 'sudadera',\n",
       " 'gorra',\n",
       " 'Polo',\n",
       " 'Camiseta',\n",
       " 'Camisa',\n",
       " 'Pantalon',\n",
       " 'Medias',\n",
       " 'Sudadera',\n",
       " 'Gorra',\n",
       " 'POLO',\n",
       " 'CAMISETA',\n",
       " 'CAMISA',\n",
       " 'PANTALON',\n",
       " 'MEDIAS',\n",
       " 'SUDADERA',\n",
       " 'GORRA']"
      ]
     },
     "execution_count": 146,
     "metadata": {},
     "output_type": "execute_result"
    }
   ],
   "source": [
    "for x in diccionario_min:\n",
    "    xx = x[0].upper() + x[1:]\n",
    "    diccionario_soloprim.append(xx)\n",
    "    \n",
    "for x in diccionario_min:\n",
    "    xx = x.upper()\n",
    "    diccionario_may.append(xx)\n",
    "    \n",
    "diccionario_siu= diccionario_min+diccionario_soloprim+diccionario_may"
   ]
  },
  {
   "cell_type": "markdown",
   "metadata": {},
   "source": [
    "Desafortunadamente la vaina está en inglés asi que a pasarlo al ingles:"
   ]
  },
  {
   "cell_type": "code",
   "execution_count": 153,
   "metadata": {},
   "outputs": [],
   "source": [
    "diccionario_enngrishu = [\"SHIRT\", \"shirt\", \"troussers\", \"TROUSSERS\", \"SOCKS\",\"socks\",\"jersey\",\"JERSEY\",\"cap\",\"CAP\", \"jockey\",\"JOCKEY\"]\n",
    "diccionario_enngrishu_1 = []\n",
    "for x in diccionario_enngrishu:\n",
    "    if x is not x.upper():\n",
    "        xx = x[0].upper() + x[1:]\n",
    "        diccionario_enngrishu_1.append(xx)"
   ]
  },
  {
   "cell_type": "code",
   "execution_count": 154,
   "metadata": {},
   "outputs": [],
   "source": [
    "diccionario_english_total = diccionario_enngrishu_1+diccionario_enngrishu"
   ]
  },
  {
   "cell_type": "markdown",
   "metadata": {},
   "source": [
    "## Los indices de los h2s q tenemos q dropear"
   ]
  },
  {
   "cell_type": "code",
   "execution_count": 156,
   "metadata": {},
   "outputs": [],
   "source": [
    "lista_indices = [] \n",
    "      \n",
    "for i, j in enumerate(h2s):\n",
    "    for x in diccionario_english_total:\n",
    "        if x in j:\n",
    "             lista_indices.append(i)"
   ]
  },
  {
   "cell_type": "code",
   "execution_count": 157,
   "metadata": {},
   "outputs": [
    {
     "data": {
      "text/plain": [
       "[2, 2, 8, 10, 12, 17, 29, 40, 41, 49, 49, 59, 59]"
      ]
     },
     "execution_count": 157,
     "metadata": {},
     "output_type": "execute_result"
    }
   ],
   "source": [
    "lista_indices"
   ]
  },
  {
   "cell_type": "code",
   "execution_count": 161,
   "metadata": {},
   "outputs": [],
   "source": [
    "res = [*set(lista_indices)]"
   ]
  },
  {
   "cell_type": "code",
   "execution_count": 196,
   "metadata": {},
   "outputs": [
    {
     "data": {
      "text/plain": [
       "10"
      ]
     },
     "execution_count": 196,
     "metadata": {},
     "output_type": "execute_result"
    }
   ],
   "source": [
    "len(res)"
   ]
  },
  {
   "cell_type": "code",
   "execution_count": 202,
   "metadata": {},
   "outputs": [],
   "source": [
    "ga = []"
   ]
  },
  {
   "cell_type": "code",
   "execution_count": 203,
   "metadata": {},
   "outputs": [],
   "source": [
    "for idx, ele in enumerate(links_secciones):\n",
    "     \n",
    "    # checking if element not present in index list\n",
    "    if idx not in res:\n",
    "        ga.append(ele)"
   ]
  },
  {
   "cell_type": "code",
   "execution_count": 204,
   "metadata": {
    "collapsed": true
   },
   "outputs": [
    {
     "data": {
      "text/plain": [
       "['/gp/slredirect/picassoRedirect.html/ref=pa_sp_atf_aps_sr_pg1_1?ie=UTF8&adId=A0371377948QLNP2X8EO&qualifier=1676162328&id=224018740294532&widgetName=sp_atf&url=%2FLionel-Posters-Decoration-16x24inch-40x60cm%2Fdp%2FB0BQV8LBKL%2Fref%3Dsr_1_1_sspa%3F__mk_es_US%3D%25C3%2585M%25C3%2585%25C5%25BD%25C3%2595%25C3%2591%26crid%3D2BGCYOGCOFVLN%26keywords%3Dmessi%26qid%3D1676162328%26sprefix%3Dmessi%252Caps%252C383%26sr%3D8-1-spons%26psc%3D1',\n",
       " '/SoccerStarz-SOC1209-Argentina-Lionel-Figure/dp/B07BN3SQQK/ref=sr_1_2?__mk_es_US=%C3%85M%C3%85%C5%BD%C3%95%C3%91&crid=2BGCYOGCOFVLN&keywords=messi&qid=1676162328&sprefix=messi%2Caps%2C383&sr=8-2',\n",
       " '/Sticker-Waterproof-Skateboard-Scrapbook-Thanksgiving/dp/B09KKC1PY8/ref=sr_1_4?__mk_es_US=%C3%85M%C3%85%C5%BD%C3%95%C3%91&crid=2BGCYOGCOFVLN&keywords=messi&qid=1676162328&sprefix=messi%2Caps%2C383&sr=8-4',\n",
       " '/JDCUBAO-decorative-paintings-Decoration-Aesthetics/dp/B0BR3BY3CC/ref=sxin_15_ac_d_rm?__mk_es_US=%C3%85M%C3%85%C5%BD%C3%95%C3%91&ac_md=0-0-bWVzc2k%3D-ac_d_rm_rm_rm&content-id=amzn1.sym.b09913c7-88ee-4b06-b977-3fd4ebd29a25%3Aamzn1.sym.b09913c7-88ee-4b06-b977-3fd4ebd29a25&crid=2BGCYOGCOFVLN&cv_ct_cx=messi&keywords=messi&pd_rd_i=B0BR3BY3CC&pd_rd_r=271b6e0f-0a85-49a4-8d9a-f249fb1641cf&pd_rd_w=Qp9jQ&pd_rd_wg=Ig3DR&pf_rd_p=b09913c7-88ee-4b06-b977-3fd4ebd29a25&pf_rd_r=TM19YXETPD2CFS5TFY79&qid=1676162328&sprefix=messi%2Caps%2C383&sr=1-1-7d9bfb42-6e38-4445-b604-42cab39e191b',\n",
       " '/TMATUTA-Barcelona-Tapestry-Hanging-College/dp/B08PV1RYSX/ref=sxin_15_ac_d_rm?__mk_es_US=%C3%85M%C3%85%C5%BD%C3%95%C3%91&ac_md=2-1-ZmMgYmFyY2Vsb25h-ac_d_rm_rm_rm&content-id=amzn1.sym.b09913c7-88ee-4b06-b977-3fd4ebd29a25%3Aamzn1.sym.b09913c7-88ee-4b06-b977-3fd4ebd29a25&crid=2BGCYOGCOFVLN&cv_ct_cx=messi&keywords=messi&pd_rd_i=B08PV1RYSX&pd_rd_r=271b6e0f-0a85-49a4-8d9a-f249fb1641cf&pd_rd_w=Qp9jQ&pd_rd_wg=Ig3DR&pf_rd_p=b09913c7-88ee-4b06-b977-3fd4ebd29a25&pf_rd_r=TM19YXETPD2CFS5TFY79&qid=1676162328&sprefix=messi%2Caps%2C383&sr=1-2-7d9bfb42-6e38-4445-b604-42cab39e191b',\n",
       " '/Icon-Sports-Reversible-Champions-Barcelona/dp/B08KHWTRH8/ref=sxin_15_ac_d_rm?__mk_es_US=%C3%85M%C3%85%C5%BD%C3%95%C3%91&ac_md=4-2-YmFyY2Vsb25hIHNvY2Nlcg%3D%3D-ac_d_rm_rm_rm&content-id=amzn1.sym.b09913c7-88ee-4b06-b977-3fd4ebd29a25%3Aamzn1.sym.b09913c7-88ee-4b06-b977-3fd4ebd29a25&crid=2BGCYOGCOFVLN&cv_ct_cx=messi&keywords=messi&pd_rd_i=B08KHWTRH8&pd_rd_r=271b6e0f-0a85-49a4-8d9a-f249fb1641cf&pd_rd_w=Qp9jQ&pd_rd_wg=Ig3DR&pf_rd_p=b09913c7-88ee-4b06-b977-3fd4ebd29a25&pf_rd_r=TM19YXETPD2CFS5TFY79&qid=1676162328&sprefix=messi%2Caps%2C383&sr=1-3-7d9bfb42-6e38-4445-b604-42cab39e191b',\n",
       " '/Barcelona-Aluminium-Messi-Drink-Bottle/dp/B0066WOEOE/ref=sxin_15_ac_d_rm?__mk_es_US=%C3%85M%C3%85%C5%BD%C3%95%C3%91&ac_md=5-3-bWVzc2kgd2F0ZXIgYm90dGxl-ac_d_rm_rm_rm&content-id=amzn1.sym.b09913c7-88ee-4b06-b977-3fd4ebd29a25%3Aamzn1.sym.b09913c7-88ee-4b06-b977-3fd4ebd29a25&crid=2BGCYOGCOFVLN&cv_ct_cx=messi&keywords=messi&pd_rd_i=B0066WOEOE&pd_rd_r=271b6e0f-0a85-49a4-8d9a-f249fb1641cf&pd_rd_w=Qp9jQ&pd_rd_wg=Ig3DR&pf_rd_p=b09913c7-88ee-4b06-b977-3fd4ebd29a25&pf_rd_r=TM19YXETPD2CFS5TFY79&qid=1676162328&sprefix=messi%2Caps%2C383&sr=1-4-7d9bfb42-6e38-4445-b604-42cab39e191b',\n",
       " '/Barcelona-Drinks-Bottle-750ml-Authentic/dp/B07W3K8P2H/ref=sxin_15_ac_d_rm?__mk_es_US=%C3%85M%C3%85%C5%BD%C3%95%C3%91&ac_md=7-5-YmFyY2E%3D-ac_d_rm_rm_rm&content-id=amzn1.sym.b09913c7-88ee-4b06-b977-3fd4ebd29a25%3Aamzn1.sym.b09913c7-88ee-4b06-b977-3fd4ebd29a25&crid=2BGCYOGCOFVLN&cv_ct_cx=messi&keywords=messi&pd_rd_i=B07W3K8P2H&pd_rd_r=271b6e0f-0a85-49a4-8d9a-f249fb1641cf&pd_rd_w=Qp9jQ&pd_rd_wg=Ig3DR&pf_rd_p=b09913c7-88ee-4b06-b977-3fd4ebd29a25&pf_rd_r=TM19YXETPD2CFS5TFY79&qid=1676162328&sprefix=messi%2Caps%2C383&sr=1-6-7d9bfb42-6e38-4445-b604-42cab39e191b',\n",
       " '/Superstars-Lionel-Signature-Dormitory-Aesthetic-Decoration/dp/B0BQH3VL48/ref=sr_1_6?__mk_es_US=%C3%85M%C3%85%C5%BD%C3%95%C3%91&crid=2BGCYOGCOFVLN&keywords=messi&qid=1676162328&sprefix=messi%2Caps%2C383&sr=8-6',\n",
       " '/JDCUBAO-decorative-paintings-Decoration-Aesthetics/dp/B0BR3BY3CC/ref=sr_1_8?__mk_es_US=%C3%85M%C3%85%C5%BD%C3%95%C3%91&crid=2BGCYOGCOFVLN&keywords=messi&qid=1676162328&sprefix=messi%2Caps%2C383&sr=8-8',\n",
       " '/Messi-Johan-Cruyff/dp/B07J35WQ9Z/ref=sr_1_9?__mk_es_US=%C3%85M%C3%85%C5%BD%C3%95%C3%91&crid=2BGCYOGCOFVLN&keywords=messi&qid=1676162328&sprefix=messi%2Caps%2C383&sr=8-9',\n",
       " '/Signables-Premium-Facsimile-Memorabilia-Collectors/dp/B09NWHRHSK/ref=sr_1_10?__mk_es_US=%C3%85M%C3%85%C5%BD%C3%95%C3%91&crid=2BGCYOGCOFVLN&keywords=messi&qid=1676162328&sprefix=messi%2Caps%2C383&sr=8-10',\n",
       " '/Messi-Inspiring-children-players-history/dp/1974634116/ref=sr_1_11?__mk_es_US=%C3%85M%C3%85%C5%BD%C3%95%C3%91&crid=2BGCYOGCOFVLN&keywords=messi&qid=1676162328&sprefix=messi%2Caps%2C383&sr=8-11',\n",
       " '/COMTRUDE-Football-Pendant-Stainless-Necklace/dp/B08GCDM7WG/ref=sr_1_13?__mk_es_US=%C3%85M%C3%85%C5%BD%C3%95%C3%91&crid=2BGCYOGCOFVLN&keywords=messi&qid=1676162328&sprefix=messi%2Caps%2C383&sr=8-13',\n",
       " '/Messi/dp/B088ZVFFTZ/ref=sr_1_14?__mk_es_US=%C3%85M%C3%85%C5%BD%C3%95%C3%91&crid=2BGCYOGCOFVLN&keywords=messi&qid=1676162328&sprefix=messi%2Caps%2C383&sr=8-14',\n",
       " '/Messi-vs-Ronaldo-Rivalry-Remade/dp/0063157179/ref=sr_1_15?__mk_es_US=%C3%85M%C3%85%C5%BD%C3%95%C3%91&crid=2BGCYOGCOFVLN&keywords=messi&qid=1676162328&sprefix=messi%2Caps%2C383&sr=8-15',\n",
       " '/Messi-2022-Updated-Luca-Caioli-ebook/dp/B09PQH19R6/ref=sr_1_16?__mk_es_US=%C3%85M%C3%85%C5%BD%C3%95%C3%91&crid=2BGCYOGCOFVLN&keywords=messi&qid=1676162328&sprefix=messi%2Caps%2C383&sr=8-16',\n",
       " '/gp/slredirect/picassoRedirect.html/ref=pa_sp_mtf_aps_sr_pg1_1?ie=UTF8&adId=A011309022SJNB94AKNR7&qualifier=1676162328&id=224018740294532&widgetName=sp_mtf&url=%2FHIGGEL-Football-Posters-Unframe-style-12x18inch%2Fdp%2FB0BMGRL4JF%2Fref%3Dsr_1_17_sspa%3F__mk_es_US%3D%25C3%2585M%25C3%2585%25C5%25BD%25C3%2595%25C3%2591%26crid%3D2BGCYOGCOFVLN%26keywords%3Dmessi%26qid%3D1676162328%26sprefix%3Dmessi%252Caps%252C383%26sr%3D8-17-spons%26psc%3D1',\n",
       " '/gp/slredirect/picassoRedirect.html/ref=pa_sp_mtf_aps_sr_pg1_1?ie=UTF8&adId=A01140146KH2K3MUFKE0&qualifier=1676162328&id=224018740294532&widgetName=sp_mtf&url=%2FHIGGEL-Football-Posters-Unframe-style-12x18inch%2Fdp%2FB0BMGQX2X6%2Fref%3Dsr_1_18_sspa%3F__mk_es_US%3D%25C3%2585M%25C3%2585%25C5%25BD%25C3%2595%25C3%2591%26crid%3D2BGCYOGCOFVLN%26keywords%3Dmessi%26qid%3D1676162328%26sprefix%3Dmessi%252Caps%252C383%26sr%3D8-18-spons%26psc%3D1',\n",
       " '/gp/slredirect/picassoRedirect.html/ref=pa_sp_mtf_aps_sr_pg1_1?ie=UTF8&adId=A01356963890PBWNGB11T&qualifier=1676162328&id=224018740294532&widgetName=sp_mtf&url=%2FSuperstar-Decorative-Paintings-Decoration-Aesthetics%2Fdp%2FB0BMLQKDX9%2Fref%3Dsr_1_19_sspa%3F__mk_es_US%3D%25C3%2585M%25C3%2585%25C5%25BD%25C3%2595%25C3%2591%26crid%3D2BGCYOGCOFVLN%26keywords%3Dmessi%26qid%3D1676162328%26sprefix%3Dmessi%252Caps%252C383%26sr%3D8-19-spons%26psc%3D1',\n",
       " '/gp/slredirect/picassoRedirect.html/ref=pa_sp_mtf_aps_sr_pg1_1?ie=UTF8&adId=A027476333MWLQ44OFE93&qualifier=1676162328&id=224018740294532&widgetName=sp_mtf&url=%2FFootball-Superstar-Ronaldo-11-7x16-5-UNFRAMED%2Fdp%2FB0BLMPZ5J7%2Fref%3Dsr_1_20_sspa%3F__mk_es_US%3D%25C3%2585M%25C3%2585%25C5%25BD%25C3%2595%25C3%2591%26crid%3D2BGCYOGCOFVLN%26keywords%3Dmessi%26qid%3D1676162328%26sprefix%3Dmessi%252Caps%252C383%26sr%3D8-20-spons%26psc%3D1',\n",
       " '/Decorative-posters-bedroom-Victory-Frameless/dp/B0B7XRMKZG/ref=sr_1_21?__mk_es_US=%C3%85M%C3%85%C5%BD%C3%95%C3%91&crid=2BGCYOGCOFVLN&keywords=messi&qid=1676162328&sprefix=messi%2Caps%2C383&sr=8-21',\n",
       " '/Superstar-Decorative-Paintings-Decoration-Aesthetics/dp/B0BMLQKDX9/ref=sr_1_22?__mk_es_US=%C3%85M%C3%85%C5%BD%C3%95%C3%91&crid=2BGCYOGCOFVLN&keywords=messi&qid=1676162328&sprefix=messi%2Caps%2C383&sr=8-22',\n",
       " '/Lionel-Messi-12x8-Signed-CELEBRATION/dp/B07C5VQT6Y/ref=sr_1_23?__mk_es_US=%C3%85M%C3%85%C5%BD%C3%95%C3%91&crid=2BGCYOGCOFVLN&keywords=messi&qid=1676162328&sprefix=messi%2Caps%2C383&sr=8-23',\n",
       " '/gp/slredirect/picassoRedirect.html/ref=pa_sp_mtf_aps_sr_pg1_1?ie=UTF8&adId=A046922026CP1Y1KPBO8O&qualifier=1676162328&id=224018740294532&widgetName=sp_mtf&url=%2FFootball-aesthetic-decoration-printing-NRTIUESX%2Fdp%2FB0BNWYHJ8C%2Fref%3Dsr_1_25_sspa%3F__mk_es_US%3D%25C3%2585M%25C3%2585%25C5%25BD%25C3%2595%25C3%2591%26crid%3D2BGCYOGCOFVLN%26keywords%3Dmessi%26qid%3D1676162328%26sprefix%3Dmessi%252Caps%252C383%26sr%3D8-25-spons%26psc%3D1',\n",
       " '/gp/slredirect/picassoRedirect.html/ref=pa_sp_mtf_aps_sr_pg1_1?ie=UTF8&adId=A0316950MRQ6PXZHAGS5&qualifier=1676162328&id=224018740294532&widgetName=sp_mtf&url=%2FAcademy-T-Z-Layton%2Fdp%2F1955804087%2Fref%3Dsr_1_26_sspa%3F__mk_es_US%3D%25C3%2585M%25C3%2585%25C5%25BD%25C3%2595%25C3%2591%26crid%3D2BGCYOGCOFVLN%26keywords%3Dmessi%26qid%3D1676162328%26sprefix%3Dmessi%252Caps%252C383%26sr%3D8-26-spons%26psc%3D1',\n",
       " '/gp/slredirect/picassoRedirect.html/ref=pa_sp_mtf_aps_sr_pg1_1?ie=UTF8&adId=A01138261UO6Y705G585A&qualifier=1676162328&id=224018740294532&widgetName=sp_mtf&url=%2FHIGGEL-Football-Posters-Unframe-style-12x18inch%2Fdp%2FB0BMGWZX77%2Fref%3Dsr_1_27_sspa%3F__mk_es_US%3D%25C3%2585M%25C3%2585%25C5%25BD%25C3%2595%25C3%2591%26crid%3D2BGCYOGCOFVLN%26keywords%3Dmessi%26qid%3D1676162328%26sprefix%3Dmessi%252Caps%252C383%26sr%3D8-27-spons%26psc%3D1',\n",
       " '/gp/slredirect/picassoRedirect.html/ref=pa_sp_mtf_aps_sr_pg1_1?ie=UTF8&adId=A02145993CXA1MIVYC2H9&qualifier=1676162328&id=224018740294532&widgetName=sp_mtf&url=%2FGUUGOON-Football-Bedroom-posters-16x24inch-Unframed%2Fdp%2FB0BDWWS3XD%2Fref%3Dsr_1_28_sspa%3F__mk_es_US%3D%25C3%2585M%25C3%2585%25C5%25BD%25C3%2595%25C3%2591%26crid%3D2BGCYOGCOFVLN%26keywords%3Dmessi%26qid%3D1676162328%26sprefix%3Dmessi%252Caps%252C383%26sr%3D8-28-spons%26psc%3D1',\n",
       " '/Gengx-Schoolbag-Daypack-Student-Backpack/dp/B0B1TY736K/ref=sr_1_29?__mk_es_US=%C3%85M%C3%85%C5%BD%C3%95%C3%91&crid=2BGCYOGCOFVLN&keywords=messi&qid=1676162328&sprefix=messi%2Caps%2C383&sr=8-29',\n",
       " '/Messi-Leo/dp/B07B11QGZC/ref=sr_1_30?__mk_es_US=%C3%85M%C3%85%C5%BD%C3%95%C3%91&crid=2BGCYOGCOFVLN&keywords=messi&qid=1676162328&sprefix=messi%2Caps%2C383&sr=8-30',\n",
       " '/Ronaldo-Vs-Messi-Faceoff-Cristiano/dp/B07BCDJXGZ/ref=sr_1_31?__mk_es_US=%C3%85M%C3%85%C5%BD%C3%95%C3%91&crid=2BGCYOGCOFVLN&keywords=messi&qid=1676162328&sprefix=messi%2Caps%2C383&sr=8-31',\n",
       " '/Lanyard-Germain-Official-Licensed-neckstrap/dp/B09PJRDJDL/ref=sr_1_32?__mk_es_US=%C3%85M%C3%85%C5%BD%C3%95%C3%91&crid=2BGCYOGCOFVLN&keywords=messi&qid=1676162328&sprefix=messi%2Caps%2C383&sr=8-32',\n",
       " '/gp/slredirect/picassoRedirect.html/ref=pa_sp_mtf_aps_sr_pg1_1?ie=UTF8&adId=A0402638HZUCMEMMHZSR&qualifier=1676162328&id=224018740294532&widgetName=sp_mtf&url=%2FFlea-Amazing-Story-Leo-Messi%2Fdp%2F1938591097%2Fref%3Dsr_1_33_sspa%3F__mk_es_US%3D%25C3%2585M%25C3%2585%25C5%25BD%25C3%2595%25C3%2591%26crid%3D2BGCYOGCOFVLN%26keywords%3Dmessi%26qid%3D1676162328%26sprefix%3Dmessi%252Caps%252C383%26sr%3D8-33-spons%26psc%3D1',\n",
       " '/gp/slredirect/picassoRedirect.html/ref=pa_sp_mtf_aps_sr_pg1_1?ie=UTF8&adId=A00403462PKCOQ2A4T0R2&qualifier=1676162328&id=224018740294532&widgetName=sp_mtf&url=%2FNITDODI-Poster-Lionel-Football-Decor-Best-Fans-12in%25C3%259718in%2Fdp%2FB0BF19WZJD%2Fref%3Dsr_1_34_sspa%3F__mk_es_US%3D%25C3%2585M%25C3%2585%25C5%25BD%25C3%2595%25C3%2591%26crid%3D2BGCYOGCOFVLN%26keywords%3Dmessi%26qid%3D1676162328%26sprefix%3Dmessi%252Caps%252C383%26sr%3D8-34-spons%26psc%3D1',\n",
       " '/adidas-unisex-youth-Messi-Royal-Yellow/dp/B08143SPH1/ref=sr_1_37?__mk_es_US=%C3%85M%C3%85%C5%BD%C3%95%C3%91&crid=2BGCYOGCOFVLN&keywords=messi&qid=1676162328&sprefix=messi%2Caps%2C383&sr=8-37',\n",
       " '/Flea-Amazing-Story-Leo-Messi/dp/1938591097/ref=sr_1_38?__mk_es_US=%C3%85M%C3%85%C5%BD%C3%95%C3%91&crid=2BGCYOGCOFVLN&keywords=messi&qid=1676162328&sprefix=messi%2Caps%2C383&sr=8-38',\n",
       " '/Lionel-Messi-Greatest-Steve-Wilson/dp/B0859SRJ59/ref=sr_1_39?__mk_es_US=%C3%85M%C3%85%C5%BD%C3%95%C3%91&crid=2BGCYOGCOFVLN&keywords=messi&qid=1676162328&sprefix=messi%2Caps%2C383&sr=8-39',\n",
       " '/Funko-Pop-Football-Saint-Germain-Lionel/dp/B09YDH36XR/ref=sr_1_40?__mk_es_US=%C3%85M%C3%85%C5%BD%C3%95%C3%91&crid=2BGCYOGCOFVLN&keywords=messi&qid=1676162328&sprefix=messi%2Caps%2C383&sr=8-40',\n",
       " '/WONDER/dp/B086HWXZ6D/ref=sr_1_41?__mk_es_US=%C3%85M%C3%85%C5%BD%C3%95%C3%91&crid=2BGCYOGCOFVLN&keywords=messi&qid=1676162328&sprefix=messi%2Caps%2C383&sr=8-41',\n",
       " '/Stickers-Waterproof-Skateboard-Computer-Aesthetic/dp/B0BMXMQF1D/ref=sr_1_42?__mk_es_US=%C3%85M%C3%85%C5%BD%C3%95%C3%91&crid=2BGCYOGCOFVLN&keywords=messi&qid=1676162328&sprefix=messi%2Caps%2C383&sr=8-42',\n",
       " '/Euroscarves-Argentina-Soccer-Scarf-Champions/dp/B0BQZHXP2W/ref=sr_1_43?__mk_es_US=%C3%85M%C3%85%C5%BD%C3%95%C3%91&crid=2BGCYOGCOFVLN&keywords=messi&qid=1676162328&sprefix=messi%2Caps%2C383&sr=8-43',\n",
       " '/Football-Superstar-Ronaldo-11-7x16-5-UNFRAMED/dp/B0BLMPZ5J7/ref=sr_1_45?__mk_es_US=%C3%85M%C3%85%C5%BD%C3%95%C3%91&crid=2BGCYOGCOFVLN&keywords=messi&qid=1676162328&sprefix=messi%2Caps%2C383&sr=8-45',\n",
       " '/Cristiano-Watercolor-Superstar-Inspirational-Football/dp/B0BGLMK7Z1/ref=sr_1_46?__mk_es_US=%C3%85M%C3%85%C5%BD%C3%95%C3%91&crid=2BGCYOGCOFVLN&keywords=messi&qid=1676162328&sprefix=messi%2Caps%2C383&sr=8-46',\n",
       " '/Epic-Athletes-Lionel-Dan-Wetzel/dp/1250619831/ref=sr_1_47?__mk_es_US=%C3%85M%C3%85%C5%BD%C3%95%C3%91&crid=2BGCYOGCOFVLN&keywords=messi&qid=1676162328&sprefix=messi%2Caps%2C383&sr=8-47',\n",
       " '/adidas-Speedportal-Messi-4-Indoor-Soccer/dp/B09F1327QX/ref=sr_1_48?__mk_es_US=%C3%85M%C3%85%C5%BD%C3%95%C3%91&crid=2BGCYOGCOFVLN&keywords=messi&qid=1676162328&sprefix=messi%2Caps%2C383&sr=8-48',\n",
       " '/Soccer-Mom-Missi-Pyle/dp/B07ZGFH7C6/ref=sr_1_49?__mk_es_US=%C3%85M%C3%85%C5%BD%C3%95%C3%91&crid=2BGCYOGCOFVLN&keywords=messi&qid=1676162328&sprefix=messi%2Caps%2C383&sr=8-49',\n",
       " '/ZERMU-Superstar-Protection-Absorption-Messi-10-Soccer-Argentina/dp/B0BQWXK767/ref=sr_1_50?__mk_es_US=%C3%85M%C3%85%C5%BD%C3%95%C3%91&crid=2BGCYOGCOFVLN&keywords=messi&qid=1676162328&sprefix=messi%2Caps%2C383&sr=8-50',\n",
       " '/Lionel-Messi-Real-Marie-Morreale/dp/0531225631/ref=sr_1_51?__mk_es_US=%C3%85M%C3%85%C5%BD%C3%95%C3%91&crid=2BGCYOGCOFVLN&keywords=messi&qid=1676162328&sprefix=messi%2Caps%2C383&sr=8-51',\n",
       " '/ZERMU-Superstar-Protection-Absorption-Messi-10-Soccer-Argentina/dp/B0BQN8HKR6/ref=sr_1_52?__mk_es_US=%C3%85M%C3%85%C5%BD%C3%95%C3%91&crid=2BGCYOGCOFVLN&keywords=messi&qid=1676162328&sprefix=messi%2Caps%2C383&sr=8-52',\n",
       " '/adidas-Nemeziz-Ground-Silver-Yellow/dp/B0811J81RC/ref=sr_1_53?__mk_es_US=%C3%85M%C3%85%C5%BD%C3%95%C3%91&crid=2BGCYOGCOFVLN&keywords=messi&qid=1676162328&sprefix=messi%2Caps%2C383&sr=8-53',\n",
       " '/HIGGEL-Football-Posters-Unframe-style-12x18inch/dp/B0BMGQX2X6/ref=sr_1_55?__mk_es_US=%C3%85M%C3%85%C5%BD%C3%95%C3%91&crid=2BGCYOGCOFVLN&keywords=messi&qid=1676162328&sprefix=messi%2Caps%2C383&sr=8-55',\n",
       " '/Collapsible-Silicone-Soccer-Water-Bottle/dp/B08DDHM9NB/ref=sr_1_56?__mk_es_US=%C3%85M%C3%85%C5%BD%C3%95%C3%91&crid=2BGCYOGCOFVLN&keywords=messi&qid=1676162328&sprefix=messi%2Caps%2C383&sr=8-56',\n",
       " '/Take-Ball-Pass-Lionel-Messi/dp/B07T9398C2/ref=sr_1_57?__mk_es_US=%C3%85M%C3%85%C5%BD%C3%95%C3%91&crid=2BGCYOGCOFVLN&keywords=messi&qid=1676162328&sprefix=messi%2Caps%2C383&sr=8-57',\n",
       " '/ZERMU-Superstar-Protection-Absorption-Messi-10-Soccer-Argentina/dp/B0BQWWKBCV/ref=sr_1_58?__mk_es_US=%C3%85M%C3%85%C5%BD%C3%95%C3%91&crid=2BGCYOGCOFVLN&keywords=messi&qid=1676162328&sprefix=messi%2Caps%2C383&sr=8-58',\n",
       " '/Sean-wants-Messi-childrens-inspiration/dp/1515389987/ref=sr_1_59?__mk_es_US=%C3%85M%C3%85%C5%BD%C3%95%C3%91&crid=2BGCYOGCOFVLN&keywords=messi&qid=1676162328&sprefix=messi%2Caps%2C383&sr=8-59',\n",
       " '/adidas-Speedflow-Messi-4-Flexible-Victory/dp/B08JH8S7KB/ref=sr_1_60?__mk_es_US=%C3%85M%C3%85%C5%BD%C3%95%C3%91&crid=2BGCYOGCOFVLN&keywords=messi&qid=1676162328&sprefix=messi%2Caps%2C383&sr=8-60']"
      ]
     },
     "execution_count": 204,
     "metadata": {},
     "output_type": "execute_result"
    }
   ],
   "source": [
    "ga"
   ]
  },
  {
   "cell_type": "code",
   "execution_count": 205,
   "metadata": {},
   "outputs": [
    {
     "data": {
      "text/plain": [
       "56"
      ]
     },
     "execution_count": 205,
     "metadata": {},
     "output_type": "execute_result"
    }
   ],
   "source": [
    "len(ga)"
   ]
  },
  {
   "cell_type": "code",
   "execution_count": 206,
   "metadata": {},
   "outputs": [],
   "source": []
  },
  {
   "cell_type": "code",
   "execution_count": 166,
   "metadata": {},
   "outputs": [],
   "source": []
  },
  {
   "cell_type": "code",
   "execution_count": null,
   "metadata": {},
   "outputs": [],
   "source": []
  },
  {
   "cell_type": "code",
   "execution_count": null,
   "metadata": {},
   "outputs": [],
   "source": []
  },
  {
   "cell_type": "code",
   "execution_count": null,
   "metadata": {},
   "outputs": [],
   "source": []
  },
  {
   "cell_type": "markdown",
   "metadata": {},
   "source": [
    "### Revisamos el CSV que creamos"
   ]
  },
  {
   "cell_type": "code",
   "execution_count": 32,
   "metadata": {},
   "outputs": [],
   "source": [
    "import pandas as pd"
   ]
  },
  {
   "cell_type": "code",
   "execution_count": 57,
   "metadata": {},
   "outputs": [],
   "source": [
    "df1 = pd.read_csv(\"AmazonMessiScrapper.csv\")"
   ]
  },
  {
   "cell_type": "code",
   "execution_count": 1,
   "metadata": {},
   "outputs": [
    {
     "ename": "NameError",
     "evalue": "name 'df1' is not defined",
     "output_type": "error",
     "traceback": [
      "\u001b[1;31m---------------------------------------------------------------------------\u001b[0m",
      "\u001b[1;31mNameError\u001b[0m                                 Traceback (most recent call last)",
      "\u001b[1;32m<ipython-input-1-1989f0ded121>\u001b[0m in \u001b[0;36m<module>\u001b[1;34m\u001b[0m\n\u001b[1;32m----> 1\u001b[1;33m \u001b[0mdf1\u001b[0m\u001b[1;33m.\u001b[0m\u001b[0mtail\u001b[0m\u001b[1;33m(\u001b[0m\u001b[1;36m20\u001b[0m\u001b[1;33m)\u001b[0m\u001b[1;33m\u001b[0m\u001b[1;33m\u001b[0m\u001b[0m\n\u001b[0m\u001b[0;32m      2\u001b[0m \u001b[1;33m\u001b[0m\u001b[0m\n\u001b[0;32m      3\u001b[0m \u001b[1;31m# Some of them don't have reviews\u001b[0m\u001b[1;33m\u001b[0m\u001b[1;33m\u001b[0m\u001b[1;33m\u001b[0m\u001b[0m\n",
      "\u001b[1;31mNameError\u001b[0m: name 'df1' is not defined"
     ]
    }
   ],
   "source": [
    "df1.tail(20)\n",
    "\n",
    "# Some of them don't have reviews"
   ]
  },
  {
   "cell_type": "code",
   "execution_count": null,
   "metadata": {},
   "outputs": [],
   "source": []
  },
  {
   "cell_type": "code",
   "execution_count": null,
   "metadata": {},
   "outputs": [],
   "source": []
  }
 ],
 "metadata": {
  "kernelspec": {
   "display_name": "Python 3",
   "language": "python",
   "name": "python3"
  },
  "language_info": {
   "codemirror_mode": {
    "name": "ipython",
    "version": 3
   },
   "file_extension": ".py",
   "mimetype": "text/x-python",
   "name": "python",
   "nbconvert_exporter": "python",
   "pygments_lexer": "ipython3",
   "version": "3.8.3"
  }
 },
 "nbformat": 4,
 "nbformat_minor": 4
}
